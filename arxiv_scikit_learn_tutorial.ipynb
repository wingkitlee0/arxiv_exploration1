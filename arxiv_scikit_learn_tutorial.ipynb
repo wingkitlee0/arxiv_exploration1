{
 "cells": [
  {
   "cell_type": "code",
   "execution_count": 64,
   "metadata": {
    "collapsed": true
   },
   "outputs": [],
   "source": [
    "%matplotlib inline\n",
    "import time\n",
    "\n",
    "# python 3\n",
    "import urllib.error\n",
    "from urllib.request import urlopen\n",
    "import datetime\n",
    "#from itertools import ifilter\n",
    "from collections import Counter, defaultdict\n",
    "import xml.etree.ElementTree as ET\n",
    "\n",
    "from bs4 import BeautifulSoup\n",
    "import matplotlib.pylab as plt\n",
    "import pandas as pd\n",
    "import numpy as np\n",
    "#import bibtexparser\n",
    "\n",
    "pd.set_option('mode.chained_assignment','warn')"
   ]
  },
  {
   "cell_type": "code",
   "execution_count": 137,
   "metadata": {
    "collapsed": true
   },
   "outputs": [],
   "source": [
    "store = pd.HDFStore(\"astroph_Aug2016_preprocessed.h5\")\n",
    "#store['df'] = df\n",
    "df = store['df']\n",
    "store.close()"
   ]
  },
  {
   "cell_type": "code",
   "execution_count": 138,
   "metadata": {},
   "outputs": [
    {
     "data": {
      "text/plain": [
       "(1843,)"
      ]
     },
     "execution_count": 138,
     "metadata": {},
     "output_type": "execute_result"
    }
   ],
   "source": [
    "df.index.shape"
   ]
  },
  {
   "cell_type": "code",
   "execution_count": 139,
   "metadata": {
    "collapsed": true
   },
   "outputs": [],
   "source": [
    "# split test and train set\n",
    "np.random.seed(42)\n",
    "def split_train_test(data, test_ratio):\n",
    "    shuffled_indices = np.random.permutation(len(data))\n",
    "    test_set_size = int(len(data) * test_ratio)\n",
    "    test_indices = shuffled_indices[:test_set_size]\n",
    "    train_indices = shuffled_indices[test_set_size:]\n",
    "    return data.iloc[train_indices], data.iloc[test_indices]"
   ]
  },
  {
   "cell_type": "code",
   "execution_count": 140,
   "metadata": {},
   "outputs": [],
   "source": [
    "training_set, test_set = split_train_test(df, 0.2)\n",
    "\n",
    "training_data = training_set.abstract\n",
    "testing_data = test_set.abstract\n",
    "training_label = training_set.label.astype('int64')\n",
    "testing_label = test_set.label.astype('int64')\n",
    "#training_data = df.abstract[:1500]\n",
    "#testing_data = df.abstract[1500:]\n",
    "#training_label = df.label[:1500].astype('int64')\n",
    "#testing_label = df.label[1500:].astype('int64')"
   ]
  },
  {
   "cell_type": "code",
   "execution_count": null,
   "metadata": {},
   "outputs": [],
   "source": []
  },
  {
   "cell_type": "code",
   "execution_count": 141,
   "metadata": {},
   "outputs": [
    {
     "name": "stdout",
     "output_type": "stream",
     "text": [
      "despite astrophysical importance of binary star systems  detections are limited to those located in small ranges of separations  distances  and masses and thus it is necessary to use a variety of observational techniques for a complete view of stellar multiplicity across a broad range of physical parameters  in this paper  we report the detections and measurements of  binaries discovered from observations of microlensing events moa  blg  and ogle  blg   determinations of the binary masses are possible by simultaneously measuring the einstein radius and the lens parallax  the measured masses of the binary components are     and     for moa  blg  and     and     for ogle  blg  and thus both lens components of moa  blg  and one component of ogle  blg  are m dwarfs  demonstrating the usefulness of microlensing in detecting binaries composed of low mass components  from modeling of the light curves considering full keplerian motion of the lens  we also measure the orbital parameters of the binaries  the blended light of ogle  blg  comes very likely from the lens itself  making it possible to check the microlensing orbital solution by follow up radial velocity observation  for both events  the caustic crossing parts of the light curves  which are critical for determining the physical lens parameters  were resolved by high cadence survey observations and thus it is expected that the number of microlensing binaries with measured physical parameters will increase in the future \n",
      "astro-ph.SR\n"
     ]
    }
   ],
   "source": [
    "target_name_dict = { 'astro-ph.GA' : 0,\n",
    "                     'astro-ph.SR' : 1,\n",
    "                     'astro-ph.IM' : 2,\n",
    "                     'astro-ph.EP' : 3,\n",
    "                     'astro-ph.SR' : 4,\n",
    "                     'astro-ph.HE' : 5,\n",
    "                     'astro-ph.CO' : 6,\n",
    "                   }\n",
    "target_name = [k for k, v in target_name_dict.items()]\n",
    "\n",
    "print(training_data[100])\n",
    "print(target_name[training_label[100]])"
   ]
  },
  {
   "cell_type": "code",
   "execution_count": 142,
   "metadata": {},
   "outputs": [
    {
     "data": {
      "text/plain": [
       "(1475, 11684)"
      ]
     },
     "execution_count": 142,
     "metadata": {},
     "output_type": "execute_result"
    }
   ],
   "source": [
    "from sklearn.feature_extraction.text import CountVectorizer\n",
    "count_vect = CountVectorizer()\n",
    "X_train_counts = count_vect.fit_transform(training_data)\n",
    "X_train_counts.shape"
   ]
  },
  {
   "cell_type": "code",
   "execution_count": 143,
   "metadata": {},
   "outputs": [
    {
     "data": {
      "text/plain": [
       "dict_keys(['we', 'report', 'the', 'observation', 'and', 'confirmation', 'of', 'first', 'group', 'cluster', 'scale', 'strong', 'gravitational', 'lensing', 'systems', 'found', 'in', 'dark', 'energy', 'survey', 'des', 'data', 'through', 'visual', 'inspection', 'from', 'science', 'verification', 'sv', 'season', 'identified', 'candidate', 'then', 'obtained', 'spectroscopic', 'follow', 'up', 'candidates', 'using', 'gemini', 'multi', 'object', 'spectrograph', 'gmos', 'at', 'south', 'telescope', 'inamori', 'magellan', 'areal', 'camera', 'imacs', 'baade', 'with', 'this', 'confirmed', 'six', 'as', 'lenses', 'three', 'are', 'newly', 'discovered', 'remaining', 'were', 'previously', 'known', 'observed', 'either', 'not', 'detected', 'observations', 'did', 'exhibit', 'continuum', 'emission', 'or', 'spectral', 'features', 'ruled', 'out', 'sample', 'consists', 'one', 'five', 'galaxy', 'lensed', 'sources', 'range', 'redshift', 'band', 'surface', 'brightness', 'sb', 'mag', 'sq', 'arcsec', 'aperture', 'for', 'each', 'estimate', 'einstein', 'radius', 'enclosed', 'mass', 'which', 'have', 'ranges', 'solar', 'masses', 'respectively', 'filter', 'images', 'corona', 'used', 'to', 'obtain', 'temperature', 'maps', 'analyzed', 'techniques', 'based', 'on', 'proper', 'orthogonal', 'decomposition', 'pod', 'order', 'extract', 'dynamical', 'structural', 'information', 'various', 'scales', 'exploring', 'active', 'regions', 'before', 'after', 'flare', 'comparing', 'them', 'quiet', 'show', 'that', 'multiscale', 'behavior', 'presents', 'distinct', 'statistical', 'properties', 'case', 'can', 'be', 'characterize', 'level', 'activity', 'region', 'about', 'nature', 'heat', 'transport', 'is', 'also', 'extracted', 'analysis', 'will', 'discuss', 'what', 'degree', 'cosmic', 'microwave', 'background', 'cmb', 'constrain', 'primordial', 'non', 'gaussianity', 'involving', 'tensor', 'two', 'scalar', 'fluctuations', 'focusing', 'correlation', 'mode', 'polarization', 'fluctuation', 'btt', 'simplest', 'models', 'inflation', 'bispectrum', 'vanishing', 'same', 'slow', 'roll', 'parameters', 'constraints', 'an', 'experiment', 'like', 'stage', 'iv', 'observable', 'more', 'than', 'magnitude', 'better', 'those', 'coupling', 'measurements', 'alone', 'argue', 'opens', 'yet', 'unexplored', 'window', 'into', 'early', 'universe', 'demonstrating', 'significant', 'physics', 'remains', 'harvested', 'anisotropies', 'measure', 'both', 'tensors', 'most', 'sought', 'signatures', 'inflationary', 'paradigm', 'present', 'results', 'joint', 'xmm', 'newton', 'nustar', 'monitoring', 'seyfert', 'ngc', 'consisting', 'ks', 'simultaneous', 'spaced', 'by', 'days', 'performed', 'january', 'source', 'variable', 'flux', 'shape', 'time', 'down', 'few', 'clear', 'softer', 'when', 'brighter', 'behaviour', 'agreement', 'past', 'find', 'presence', 'warm', 'absorber', 'well', 'described', 'phase', 'ionized', 'outflow', 'exhibits', 'cold', 'narrow', 'constant', 'fe', 'alpha', 'line', 'kev', 'broad', 'component', 'spectrum', 'primary', 'power', 'law', 'gamma', 'exponential', 'cut', 'off', 'varying', 'reflection', 'components', 'soft', 'excess', 'correlated', 'campaign', 'shows', 'probing', 'variability', 'galaxies', 'different', 'prime', 'importance', 'investigate', 'high', 'agns', 'since', 'hubble', 'lamaitre', 'discovery', 'expanding', 'till', 'recent', 'accelerating', 'standard', 'candles', 'direct', 'evolution', 'factor', 'played', 'central', 'roles', 'establishing', 'model', 'cosmology', 'letter', 'such', 'measurement', 'may', 'extended', 'massive', 'fields', 'clocks', 'providing', 'evidence', 'scenario', 'responsible', 'big', 'bang', 'short', 'technical', 'introduction', 'idea', 'classical', 'quantum', 'paper', 'simulated', 'probe', 'capabilities', 'next', 'generation', 'telescopes', 'elt', 'jwst', 'photometrical', 'carry', 'extensive', 'set', 'simulations', 'adopting', 'specifications', 'light', 'instrument', 'micado', 'main', 'sizes', 'sersic', 'index', 'magnitudes', 'measured', 'galfit', 'accuracy', 'determinations', 'assessed', 'input', 'values', 'many', 'runs', 'noise', 'address', 'effects', 'possible', 'spatial', 'variation', 'psf', 'field', 'exposure', 'near', 'ir', 'it', 'size', 'total', 'morphology', 'objects', 'faint', 'half', 'effective', 'compact', 'type', 'recovered', 'provided', 'their', 'exceeds', 'mas', 'these', 'compared', 'expected', 'nircam', 'board', 'local', 'thermodynamic', 'equilibrium', 'lte', 'dependent', 'radiative', 'transfer', 'chandrasekhar', 'delayed', 'detonation', 'synthesizes', 'msun', 'ni', 'confront', 'our', 'ia', 'supernova', 'sn', 'bo', 'over', 'its', 'assuming', 'only', 'homologous', 'expansion', 'reproduces', 'bolometric', 'curves', 'secondary', 'infrared', 'nir', 'maxima', 'optical', 'spectra', 'chemical', 'stratification', 'qualitatively', 'agrees', 'previous', 'inferences', 'stehle', 'et', 'al', 'but', 'reveals', 'quantitative', 'differences', 'iron', 'intermediate', 'elements', 'per', 'cent', 'variations', 'modest', 'impact', 'colour', 'notable', 'exception', 'where', 'larger', 'abundance', 'less', 'opaque', 'ejecta', 'ionization', 'displaying', 'higher', 'uv', 'affect', 'timing', 'observational', 'moreover', 'within', 'maximum', 'confirming', 'potential', 'photometry', 'sne', 'overall', 'mechanism', 'single', 'white', 'dwarf', 'progenitors', 'seems', 'suited', 'similar', 'si', 'ii', 'whatever', 'multidimensional', 'processes', 'play', 'during', 'explosion', 'leading', 'events', 'they', 'must', 'conspire', 'produce', 'comparable', 'spherically', 'symmetric', 'numerical', 'ray', 'propagation', 'fast', 'access', 'static', 'magnetic', 'required', 'structure', 'multiresolution', 'vector', 'grids', 'optimized', 'low', 'overhead', 'shared', 'memory', 'use', 'hierarchy', 'encoded', 'grid', 'itself', 'reducing', 'benchmarks', 'certain', 'scenarios', 'deflections', 'introduced', 'sampling', 'significantly', 'reduced', 'approach', 'large', 'angular', 'provides', 'smoking', 'gun', 'waves', 'gws', 'often', 'stated', 'establishes', 'vacuum', 'could', 'generated', 'however', 'need', 'check', 'if', 'sizable', 'signal', 'exists', 'due', 'reaching', 'firm', 'conclusion', 'particular', 'types', 'generate', 'ng', 'testing', 'statistics', 'powerful', 'way', 'detecting', 'concrete', 'example', 'gauge', 'chiral', 'via', 'pseudoscalar', 'forecast', 'detection', 'significance', 'future', 'satellite', 'litebird', 'residual', 'foregrounds', 'taken', 'account', 'bbb', 'sensitive', 'detectable', 'therefore', 'search', 'indispensable', 'toward', 'unambiguously', 'minkowski', 'functional', 'detect', 'ngs', 'while', 'efficient', 'harmonic', 'space', 'estimator', 'still', 'serves', 'useful', 'cross', 'finally', 'possibility', 'extracting', 'clean', 'parity', 'violation', 'new', 'violating', 'observables', 'induced', 'task', 'debrecen', 'heliophysical', 'observatory', 'dho', 'has', 'been', 'detailed', 'reliable', 'precise', 'documentation', 'photospheric', 'long', 'term', 'effort', 'resulted', 'catalogs', 'ground', 'borne', 'series', 'sunspot', 'databases', 'tools', 'compiled', 'photoheliographic', 'dpd', 'dataset', 'michelson', 'doppler', 'imager', 'mdi', 'heliospheric', 'soho', 'called', 'sdd', 'helioseismic', 'hmi', 'dynamics', 'sdo', 'hmidd', 'user', 'friendly', 'web', 'presentations', 'developed', 'visualize', 'last', 'step', 'compilation', 'revised', 'version', 'greenwich', 'gpr', 'catalog', 'was', 'converted', 'format', 'homogeneous', 'database', 'covering', 'years', 'created', 'era', 'completed', 'full', 'disc', 'drawings', 'hungarian', 'historical', 'observatories', 'ogyalla', 'kalocsa', 'polarity', 'mount', 'wilson', 'describe', 'characteristics', 'available', 'all', 'rotating', 'perfect', 'fluid', 'stars', 'general', 'relativity', 'unstable', 'axisymmetric', 'perturbations', 'friedman', 'schutz', 'cfs', 'instability', 'requires', 'essential', 'loss', 'momentum', 'radiation', 'instances', 'acts', 'too', 'timescale', 'physically', 'astrophysically', 'relevant', 'interest', 'examine', 'stability', 'relativistic', 'does', 'occur', 'provide', 'rayleigh', 'ritz', 'variational', 'principle', 'generalizes', 'given', 'spherical', 'lower', 'bound', 'rate', 'growth', 'derivation', 'closely', 'parallels', 'recently', 'analyzing', 'black', 'holes', 'atomic', 'hydrogen', 'formation', 'channels', 'ch', 'reaction', 'investigated', 'continuous', 'supersonic', 'flow', 'reactor', 'atoms', 'directly', 'nm', 'ultraviolet', 'laser', 'fluorescence', 'absolute', 'atom', 'yields', 'determined', 'comparison', 'product', 'agree', 'earlier', 'crossed', 'beam', 'experiments', 'employing', 'universal', 'methods', 'incorporating', 'branching', 'ratios', 'gas', 'grain', 'dense', 'interstellar', 'clouds', 'increases', 'cch', 'minor', 'containing', 'molecules', 'devoted', 'study', 'circumstances', 'favourable', 'trojan', 'planets', 'close', 'binary', 'star', 'help', 'eclipse', 'etvs', 'determine', 'probability', 'former', 'missions', 'corot', 'kepler', 'plato', 'tess', 'cheops', 'planet', 'tadpole', 'motion', 'body', 'problem', 'computing', 'etv', 'addition', 'changed', 'eccentricity', 'libration', 'amplitude', 'whether', 'stable', 'moving', 'orbits', 'conclude', 'amplitudes', 'enough', 'earth', 'application', 'prepared', 'list', 'covariant', 'generalization', 'allows', 'existence', 'proportional', 'action', 'theory', 'consequently', 'equations', 'matter', 'charged', 'hole', 'exact', 'solutions', 'applying', 'isotropic', 'there', 'density', 'correspondingly', 'minimum', 'length', 'means', 'bounce', 'times', 'avoids', 'singularity', 'possesses', 'true', 'sequence', 'cosmological', 'eras', 'although', 'context', 'any', 'important', 'role', 'becomes', 'dominated', 'repulsive', 'plays', 'crucial', 'resolving', 'pfi', 'kilometric', 'baseline', 'interferometer', 'image', 'complex', 'physical', 'technologies', 'starlight', 'combining', 'laboratory', 'include', 'free', 'air', 'fibres', 'addresses', 'design', 'cost', 'issues', 'associated', 'pipes', 'losses', 'diffraction', 'differential', 'paths', 'evaluated', 'conceptual', 'designs', 'pupil', 'management', 'ameliorate', 'presented', 'discussed', 'coupled', 'quintessence', 'pure', 'exchange', 'interaction', 'wide', 'negative', 'parameter', 'suppressed', 'reconcile', 'tension', 'between', 'inferred', 'counts', 'good', 'cdm', 'baryon', 'acoustic', 'oscillation', 'bao', 'makes', 'strongly', 'preferred', 'improving', 'best', 'fit', 'value', 'hcn', 'hnc', 'profiles', 'inflow', 'motions', 'evolutionary', 'stages', 'irdcs', 'protostellar', 'hmpos', 'ultra', 'hii', 'uchiis', 'asymmetry', 'prevalent', 'throughout', 'phases', 'showing', 'largest', 'blue', 'profile', 'prevalence', 'appear', 'excepting', 'suggest', 'appropriate', 'trace', 'evolved', 'because', 'decreases', 'temperatures', 'result', 'spotlights', 'considering', 'chemistry', 'forming', 'fact', 'highest', 'transitions', 'indicates', 'occurs', 'irdc', 'rather', 'later', 'inflowing', 'onto', 'some', 'absorption', 'dips', 'red', 'shifted', 'relative', 'systemic', 'velocities', 'indicate', 'global', 'collapse', 'mapping', 'resolution', 'needed', 'feature', 'detail', 'carried', 'sodium', 'iodide', 'crystals', 'anais', 'annual', 'modulation', 'nai', 'scintillators', 'project', 'kg', 'tl', 'produced', 'inc', 'operated', 'canfranc', 'underground', 'together', 'evaluation', 'prospects', 'threshold', 'conditions', 'quantified', 'activities', 'crystal', 'bulk', 'contamination', 'dominant', 'contributions', 'pb', 'na', 'efficiently', 'thanks', 'anticoincidence', 'operation', 'matrix', 'inside', 'liquid', 'scintillator', 'veto', 'lsv', 'production', 'shielding', 'against', 'rays', 'characterized', 'detector', 'nine', 'dedicated', 'relationships', 'relation', 'peak', 'luminosity', 'supernovae', 'decline', 'history', 'relationship', 'quite', 'interesting', 'independently', 'american', 'statistician', 'astronomer', 'bert', 'woodard', 'rust', 'soviet', 'yury', 'pavlovich', 'pskovskii', 'limited', 'able', 'slower', 'declines', 'appearance', 'ccd', 'cameras', 'mark', 'phillips', 're', 'inspect', 'his', 'investigations', 'proposed', 'giants', 'globular', 'hydra', 'wiyn', 'indicated', 'prominent', 'li', 'giant', 'vz', 'spectroscopy', 'arc', 'yielded', 'derived', 'oxygen', 'abundances', 'location', 'above', 'horizontal', 'branch', 'blueward', 'color', 'diagram', 'places', 'asymptotic', 'likely', 'enhanced', 'lithium', 'cameron', 'fowler', 'operating', 'accurate', 'critical', 'current', 'revealing', 'possibly', 'hst', 'imaging', 'lens', 'system', 'delays', 'allow', 'uncertainty', 'forever', 'explore', 'adaptive', 'optics', 'ao', 'alternative', 'point', 'spread', 'function', 'atmospheric', 'distortion', 'make', 'delay', 'cosmography', 'develop', 'method', 'unknown', 'quasars', 'blind', 'test', 'mock', 'sets', 'psfs', 'recover', 'distance', 'external', 'shear', 'slope', 'keck', 'rxj', 'modeling', 'uncertainties', 'importantly', 'constraint', 'tighter', 'distribution', 'adopted', 'reconstruction', 'technique', 'generic', 'applicable', 'multiple', 'nearby', 'enabling', 'scientific', 'studies', 'require', 'precision', 'tentative', 'nitrosylium', 'ion', 'no', 'towards', 'core', 'barnard', 'identification', 'supported', 'rotational', 'lines', 'transition', 'mhz', 'leads', 'improved', 'molecular', 'constants', 'eqq', 'textrm', 'velocity', 'km', 'column', 'densities', 'hno', 'reported', 'here', 'following', 'latter', 'destruction', 'other', 'related', 'nitrogen', 'bearing', 'species', 'includes', 'updated', 'network', 'according', 'experimental', 'predicted', 'consistent', 'satisfactory', 'explain', 'hscn', 'hncs', 'ratio', 'searched', 'nno', 'hnno', 'nnoh', 'upper', 'limits', 'except', 'trajectories', 'decelerations', 'eight', 'draconid', 'meteors', 'northern', 'italy', 'october', 'meteor', 'morphologies', 'radiants', 'theoretical', 'predictions', 'hint', 'belong', 'pre', 'meteoroid', 'trails', 'confirm', 'draconids', 'normal', 'chondritic', 'composition', 'mg', 'nevertheless', 'temporal', 'shapes', 'deceleration', 'rates', 'porous', 'conglomerates', 'grains', 'fragmentation', 'cm', 'sized', 'textures', 'resistance', 'exist', 'among', 'meteoroids', 'even', 'decade', 'number', 'asteroids', 'quadrupled', 'belt', 'satellites', 'doubled', 'dozen', 'triple', 'unrecognized', 'populations', 'asteroid', 'pairs', 'small', 'binaries', 'confirms', 'form', 'fission', 'yorp', 'effect', 'powers', 'spin', 'process', 'unifying', 'post', 'triples', 'collisions', 'neutron', 'forms', 'progenitor', 'survives', 'interior', 'topology', 'usually', 'assumed', 'approximated', 'dipole', 'located', 'right', 'centre', 'reason', 'why', 'should', 'attached', 'very', 'special', 'slight', 'shift', 'stellar', 'implications', 'surrounding', 'electromagnetic', 'configuration', 'centred', 'anchored', 'analytical', 'outside', 'displacement', 'simple', 'diagnostic', 'decentred', 'torque', 'exerted', 'crust', 'computed', 'lowest', 'works', 'discussion', 'repercussions', 'pulsar', 'braking', 'wavelength', 'hanford', 'livingston', 'ligo', 'sites', 'wave', 'event', 'gw', 'speed', 'units', 'combined', 'absence', 'cherenkov', 'rules', 'subluminal', 'gives', 'independent', 'double', 'sided', 'compare', 'specific', 'real', 'quadratic', 'union', 'jointly', 'planck', 'prior', 'limit', 'ev', 'namely', 'mpc', 'much', 'smaller', 'estimated', 'once', 'evidences', 'practice', 'viable', 'self', 'subject', 'poorly', 'understanding', 'highlighted', 'major', 'makeover', 'international', 'clette', 'reviews', 'thorough', 'estimation', 'behave', 'poisson', 'random', 'variables', 'multiplicative', 'coefficient', 'expression', 'reveal', 'how', 'coincides', 'changes', 'processing', 'knowing', 'properly', 'building', 'composites', 'preserving', 'aim', 'research', 'simulate', 'wind', 'mercury', 'particle', 'fluxes', 'magnetosheath', 'magnetosphere', 'open', 'mhd', 'code', 'pluto', 'geometry', 'multipolar', 'hermean', 'anderson', 'perform', 'realistic', 'plasma', 'stream', 'originated', 'reconnection', 'interplanetary', 'precipitates', 'along', 'rarefaction', 'cooling', 'flattening', 'messenger', 'adjacency', 'injected', 'inner', 'diffuse', 'precursors', 'unclear', 'work', 'orientations', 'filamentary', 'structures', 'polaris', 'seen', 'dust', 'herschel', 'plane', 'sky', 'orientation', 'revealed', 'polarimetry', 'robopol', 'translucent', 'cloud', 'preference', 'alignment', 'filaments', 'uncorrelated', 'intensity', 'dispersion', 'angles', 'concentrating', 'area', 'around', 'filament', 'uniform', 'infer', 'strength', 'decomposed', 'turbulent', 'ordered', 'implying', 'dynamically', 'least', 'areas', 'diameter', 'monitored', 'royal', 'spanish', 'navy', 'today', 'instituto', 'observatorio', 'de', 'la', 'armada', 'roa', 'almost', 'continuously', 'creation', 'quarter', 'millennium', 'painstaking', 'collect', 'archive', 'institution', 'semidiameter', 'making', 'considered', 'calculated', 'transit', 'registered', 'observers', 'modern', 'danjon', 'astrolabe', 'published', 'analysed', 'trends', 'constancy', 'approximately', 'instrumental', 'methodological', 'mean', 'deviation', 'made', 'corrections', 'refraction', 'equal', 'pm', 'goal', 'advance', 'mathematical', 'computational', 'methodology', 'orbiter', 'radio', 'tomography', 'planetary', 'advanced', 'waveform', 'forward', 'inversion', 'unit', 'receives', 'transmitted', 'transponder', 'domain', 'spectropolarimetric', 'epochs', 'respect', 'dependence', 'unlike', 'linear', 'dichroism', 'milky', 'entirely', 'circumstellar', 'scattering', 'angle', 'aligns', 'host', 'arguing', 'origin', 'additionally', 'wavelengths', 'would', 'imply', 'sight', 'illustrative', 'purposes', 'day', 'epoch', 'combines', 'aa', 'upon', 'removal', 'levels', 'asymmetries', 'visible', 'moderate', 'accordance', 'reaches', 'week', 'loop', 'illustrating', 'generally', 'spheroidal', 'clumpy', 'silicon', 'fitting', 'thermal', 'xray', 'nss', 'quiescent', 'radii', 'undetected', 'hot', 'spots', 'thus', 'ns', 'explored', 'atmospheres', 'spot', 'harden', 'so', 'tends', 'pulsations', 'pulsed', 'fraction', 'tucanae', 'beaming', 'atmosphere', 'archival', 'chandra', 'hrc', 'placing', 'confidence', 'fractions', 'below', 'pulsation', 'bias', 'spectroscopically', 'downward', 'cen', 'deeper', 'searches', 'lmxbs', 'progress', 'constraining', 'directed', 'defense', 'now', 'option', 'superior', 'ways', 'being', 'defend', 'threats', 'basic', 'ideas', 'behind', 'utilizes', 'ablation', 'impart', 'deflecting', 'force', 'target', 'philosophy', 'stands', 'targeting', 'exploration', 'orbiting', 'stand', 'papers', 'describes', 'starlite', 'share', 'heritage', 'array', 'heats', 'vapor', 'pressure', 'causes', 'ejection', 'plume', 'material', 'rocket', 'deflect', 'classified', 'uses', 'conventional', 'propellant', 'launch', 'leo', 'engines', 'propel', 'spacecraft', 'nea', 'mission', 'deflection', 'ibd', 'gravity', 'tractor', 'capable', 'apophis', 'class', 'year', 'depending', 'fits', 'rough', 'redirect', 'arm', 'program', 'terms', 'greater', 'capability', 'proposals', 'readily', 'scalable', 'match', 'threat', 'sufficient', 'warning', 'galactic', 'center', 'gc', 'sgr', 'manifestation', 'nebula', 'xrn', 'reprocessing', 'outburst', 'supermassive', 'alternatively', 'illuminated', 'electrons', 'lecre', 'protons', 'lecrp', 'resolved', 'hard', 'sub', 'arcminute', 'emerging', 'cores', 'surrounded', 'inconclusive', 'decreasing', 'reached', 'explained', 'resulting', 'compton', 'scattered', 'consistently', 'clump', 'envelope', 'reflecting', 'cr', 'tool', 'population', 'alma', 'aca', 'caltech', 'submillimeter', 'cso', 'prestellar', 'ln', 'suggested', 'interacting', 'driven', 'protostar', 'iras', 'deuteration', 'medium', 'change', 'nhd', 'width', 'across', 'traced', 'water', 'widths', 'ne', 'part', 'broader', 'disturbed', 'sw', 'nd', 'extending', 'dish', 'au', 'displaced', 'suggesting', 'spatially', 'see', 'lead', 'second', 'weak', 'adiabatic', 'radial', 'oscillations', 'hadronic', 'magnetized', 'framework', 'nonlinear', 'walecka', 'integrate', 'fundamental', 'consider', 'typical', 'magnetar', 'frequency', 'unmagnetized', 'excited', 'flares', 'leave', 'imprint', 'lightcurves', 'highly', 'ultradense', 'metrewave', 'gmrt', 'recurrent', 'nova', 'scorpii', 'recorded', 'february', 'symbiotic', 'whose', 'curve', 'frequencies', 'followed', 'rs', 'ophiuchi', 'fitted', 'synchrotron', 'shell', 'modified', 'absorbing', 'uniformly', 'distributed', 'peaked', 'sooner', 'successive', 'outbursts', 'interpreted', 'caused', 'foreground', 'accretion', 'disk', 'widespread', 'attributed', 'winds', 'blown', 'novae', 'alongwith', 'several', 'outstanding', 'vlbi', 'sdss', 'heavily', 'us', 'map', 'hi', 'pc', 'corresponds', 'coherent', 'extent', 'including', 'depth', 'support', 'heiles', 'troland', 'ism', 'applicability', 'caution', 'applied', 'interpreting', 'dlas', 'distorted', 'indicative', 'jet', 'william', 'frii', 'kpc', 'supports', 'oh', 'nebulae', 'key', 'understood', 'common', 'turn', 'astrophysical', 'phenomena', 'cataclysmic', 'going', 'targeted', 'led', 'just', 'success', 'rooted', 'selection', 'morphological', 'deemed', 'binarity', 'novel', 'observing', 'strategies', 'employment', 'filters', 'minimise', 'nebular', 'discoveries', 'characterisation', 'literature', 'position', 'begin', 'motivated', 'magellanic', 'lmc', 'thought', 'approximation', 'inertial', 'galactocentric', 'reference', 'frame', 'valid', 'estimates', 'orbital', 'period', 'apocentric', 'fixed', 'shortened', 'allowed', 'move', 'freely', 'response', 'pull', 'holding', 'favoring', 'infall', 'gyr', 'furthermore', 'orbit', 'tidal', 'debris', 'sagittarius', 'deposits', 'aligned', 'accounting', 'movement', 'modifies', 'apocenters', 'tilts', 'pole', 'alleviating', 'tensions', 'preliminary', 'highlight', 'mutual', 'mw', 'kinematics', 'calculations', 'ages', 'reionization', 'dragons', 'semi', 'analytic', 'modelling', 'designed', 'feedback', 'naturally', 'lfs', 'sfr', 'finding', 'histories', 'scatter', 'median', 'dex', 'observationally', 'functions', 'luminosities', 'ionizing', 'photon', 'budget', 'predict', 'lf', 'steep', 'flat', 'fainter', 'photons', 'flattens', 'halo', 'reside', 'haloes', 'concept', 'revisited', 'regard', 'van', 'der', 'waals', 'polytropic', 'spheres', 'coordinate', 'plotted', 'indexes', 'disclosing', 'noticeable', 'coordinates', 'belongs', 'kind', 'sufficiently', 'oblique', 'inflection', 'rm', 'varpi', 'theta', 'lane', 'emden', 'fucntions', 'rho', 'nonspherical', 'polytropes', 'selected', 'direction', 'mu', 'xi', 'collisionless', 'particles', 'restricted', 'moscow', 'state', 'university', 'shower', 'eas', 'msu', 'studied', 'energies', 'pev', 'hemisphere', 'indications', 'muonless', 'showers', 'complete', 'monte', 'carlo', 'performance', 'further', 'measuring', 'sun', 'internal', 'meridional', 'helioseismology', 'fourier', 'legendre', 'addressing', 'validate', 'artificial', 'numerically', 'simulating', 'seismic', 'volume', 'hour', 'settings', 'halfspheres', 'patches', 'front', 'farside', 'north', 'southern', 'frontside', 'setups', 'additional', 'accessible', 'view', 'bottom', 'convection', 'zone', 'outer', 'layers', 'probed', 'validity', 'flows', 'promises', 'complement', 'nearside', 'brought', 'improvements', 'characterization', 'million', 'create', 'picture', 'put', 'meteorite', 'emerged', 'question', 'original', 'compositional', 'gradient', 'bodies', 'entire', 'longer', 'belts', 'planetesimals', 'instead', 'formed', 'sculpted', 'article', 'advancements', 'fronts', 'theories', 'heliocentric', 'compositions', 'chapter', 'questions', 'relating', 'distributions', 'summarizes', 'briefly', 'review', 'relevance', 'beyond', 'extreme', 'helium', 'widely', 'photometric', 'kinematic', 'perspective', 'striking', 'ms', 'corresponding', 'middle', 'hosts', 'correspond', 'connected', 'exploit', 'arcmin', 'mss', 'appears', 'concentrated', 'wich', 'sigma', 'apply', 'inverse', 'note', 'formulate', 'electrodynamic', 'reduce', 'solution', 'famous', 'gel', 'fand', 'levitan', 'marchenko', 'equation', 'mechanical', 'bridges', 'gap', 'luminous', 'kinetic', 'erg', 'dominates', 'outermost', 'kms', 'ime', 'dominate', 'dominating', 'final', 'nse', 'carbon', 'sng', 'consist', 'exclusively', 'singly', 'ionised', 'extension', 'deflagration', 'imes', 'cygnus', 'four', 'despite', 'similarity', 'construct', 'excellent', 'consistency', 'remain', 'timescales', 'rapidly', 'majority', 'apparent', 'misalignment', 'warp', 'deg', 'improve', 'regarding', 'electron', 'observe', 'varies', 'manner', 'focused', 'supergiant', 'companion', 'agn', 'identify', 'mechanisms', 'cause', 'constructed', 'rosat', 'slew', 'swift', 'probable', 'spurious', 'differ', 'little', 'control', 'drawn', 'wider', 'veron', 'secure', 'detections', 'represented', 'suggests', 'affected', 'marginal', 'apart', 'loud', 'drawing', 'variety', 'disruption', 'excluded', 'goals', 'bluedisk', 'contains', 'bluer', 'rich', 'counterparts', 'ongoing', 'affects', 'efficiency', 'co', 'iram', 'amount', 'quantities', 'metallicity', 'analyse', 'relate', 'etc', 'centres', 'marginally', 'shorter', 'depletion', 'samples', 'parts', 'discs', 'having', 'slightly', 'steeper', 'gradients', 'appreciable', 'contribute', 'jets', 'conduct', 'dimensional', 'hydrodynamic', 'pulses', 'imposed', 'simulation', 'without', 'plasmas', 'accelerated', 'effectively', 'transonic', 'substantial', 'rapid', 'acceleration', 'normalized', 'compatible', 'situ', 'train', 'shocks', 'traveling', 'upward', 'tracing', 'accelerate', 'successively', 'push', 'eventually', 'escape', 'parametric', 'increasing', 'considerably', 'faster', 'hotter', 'recurring', 'bring', 'denser', 'ubiquitous', 'determination', 'birth', 'understand', 'consequent', 'integrations', 'backward', 'contribution', 'spiral', 'arms', 'bar', 'took', 'migrated', 'place', 'odot', 'migration', 'lindblad', 'resonance', 'separated', 'corrotation', 'resonances', 'cases', 'unlikely', 'interferometric', 'wa', 'sma', 'vla', 'resolutions', 'findings', 'parsec', 'intersect', 'occurring', 'triggering', 'convergence', 'initiated', 'converging', 'dusty', 'mm', 'intersection', 'condensations', 'markedly', 'indices', 'rotation', 'axis', 'intersecting', 'deliver', 'extraterrestrial', 'rocks', 'meteorites', 'accompanied', 'bolides', 'fireballs', 'impacts', 'centimeter', 'decameter', 'penetration', 'bolide', 'compile', 'instrumentally', 'falls', 'heterogeneous', 'almahata', 'sitta', 'tc', 'bene', 'ov', 'revolutionized', 'bram', 'neuschwanstein', 'pair', 'carbonaceous', 'chondrite', 'comet', 'boundary', 'chelyabinsk', 'fall', 'damaging', 'blast', 'disrupt', 'fragments', 'flight', 'carancas', 'remained', 'nearly', 'intact', 'crater', 'coyote', 'emulator', 'rule', 'originally', 'ref', 'equivalence', 'percent', 'modes', 'covered', 'suite', 'parametrization', 'criteria', 'implemented', 'module', 'camb', 'combination', 'likelihood', 'analyses', 'codes', 'https', 'github', 'com', 'luciano', 'casarini', 'pkequal', 'backgrounds', 'astronomical', 'subsequent', 'missing', 'pixels', 'interpolation', 'pixel', 'neighborhood', 'transform', 'contrast', 'popular', 'algorithm', 'extraction', 'tuning', 'relies', 'sensors', 'gain', 'read', 'estimators', 'superiority', 'especially', 'challenging', 'fluctuating', 'filtered', 'tunable', 'eliminate', 'impulses', 'deep', 'proxima', 'centauri', 'habitable', 'nearest', 'neighbour', 'synchronously', 'risk', 'runaway', 'greenhouse', 'sunlight', 'side', 'reverse', 'mutually', 'ameliorated', 'tutorial', 'climate', 'incident', 'indeed', 'enhance', 'habitability', 'suffered', 'began', 'volatile', 'inventory', 'inflaton', 'canonical', 'dilaton', 'brans', 'dicke', 'quartic', 'potentials', 'otherwise', 'bicep', 'yield', 'reach', 'cmbpol', 'negligible', 'isocurvature', 'upto', 'realised', 'realm', 'supergravity', 'halos', 'hmf', 'enters', 'parametrizes', 'interestingly', 'connection', 'suffer', 'systematic', 'baryonic', 'included', 'ask', 'putting', 'meaningful', 'euclid', 'pas', 'give', 'stronger', 'ones', 'art', 'vastly', 'implementation', 'deviations', 'cannot', 'accounted', 'resultant', 'property', 'circular', 'max', 'explains', 'andromeda', 'increase', 'assembled', 'tt', 'truncation', 'taking', 'content', 'under', 'influence', 'divided', 'roughly', 'families', 'fornax', 'boosted', 'intrinsic', 'difficult', 'interferometry', 'optically', 'thick', 'engine', 'inversely', 'equipartition', 'condition', 'ghz', 'derive', 'rest', 'indicating', 'lorentz', 'implies', 'enabled', 'strongest', 'tests', 'assumption', 'accurately', 'pulse', 'millisecond', 'suddenly', 'decays', 'months', 'permanently', 'pulsars', 'sensitivity', 'increased', 'redshifts', 'obtaining', 'synoptic', 'square', 'kilometre', 'determining', 'variance', 'alongside', 'optimize', 'trading', 'completeness', 'reliability', 'hope', 'achieve', 'commonly', 'heteroscedastic', 'existing', 'approaches', 'susceptible', 'outliers', 'do', 'take', 'manual', 'bayesian', 'machine', 'learning', 'optimizes', 'predictive', 'refer', 'gaussian', 'gpz', 'takes', 'dr', 'substantially', 'outperforms', 'photo', 'tpz', 'annz', 'matlab', 'python', 'implementations', 'download', 'oxfordml', 'transient', 'associate', 'suggestions', 'ubvri', 'th', 'july', 'ub', 'itak', 'national', 'tug', 'member', 'galaxia', 'sharma', 'simultaneously', 'diagrams', 'versus', 'removing', 'degeneracies', 'modulus', 'age', 'distances', 'members', 'australian', 'eye', 'cubesat', 'platform', 'errors', 'achievable', 'enable', 'extragalactic', 'demonstrator', 'nanosatellites', 'refractive', 'broadband', 'bands', 'carina', 'complexity', 'richness', 'aspect', 'clusters', 'claimed', 'analyze', 'focus', 'ysos', 'reddened', 'outline', 'young', 'adjacent', 'complemented', 'targets', 'culled', 'excesses', 'overdensities', 'pms', 'coeval', 'conspicuous', 'nw', 'se', 'imf', 'discover', 'characterise', 'abnormally', 'ten', 'ob', 'car', 'sag', 'bursty', 'sf', 'representative', 'extrapolated', 'lived', 'relic', 'maintain', 'partial', 'intergalactic', 'igm', 'milder', 'reproduce', 'depends', 'duty', 'cycle', 'bursts', 'neutral', 'alleviated', 'perhaps', 'iii', 'proto', 'sms', 'seed', 'smbh', 'strain', 'emitted', 'collapsing', 'burning', 'detectors', 'elisa', 'lisa', 'opportunity', 'smbhs', 'synergy', 'environmental', 'slitless', 'surveys', 'catalogues', 'anchor', 'counting', 'cylindrical', 'cells', 'catalogue', 'successfully', 'separates', 'environments', 'quintile', 'cell', 'mistaken', 'peaks', 'environment', 'sparsely', 'demonstrate', 'hence', 'saturn', 'ring', 'constrained', 'moons', 'rings', 'quantifying', 'opacity', 'abundant', 'fine', 'wavelet', 'occultations', 'crucis', 'spectrometer', 'vims', 'onboard', 'cassini', 'janus', 'mimas', 'individual', 'occultation', 'unexpected', 'pattern', 'might', 'arise', 'periodic', 'enceladus', 'pandora', 'correct', 'speeds', 'appropriately', 'corrected', 'average', 'wavelets', 'though', 'third', 'thirds', 'moon', 'wfc', 'myr', 'continue', 'ab', 'earliest', 'fw', 'dropouts', 'brightest', 'reionizing', 'borg', 'fm', 'deepest', 'satisfying', 'pointing', 'suggestive', 'clustering', 'bright', 'unresolved', 'brown', 'legacy', 'highlights', 'tailored', 'ups', 'parallel', 'interact', 'solve', 'coincidence', 'motivations', 'underlying', 'introduce', 'forthcoming', 'facilities', 'clearer', 'sector', 'nonlocal', 'modification', 'relax', 'initial', 'formulation', 'late', 'null', 'violated', 'stably', 'generalized', 'galileon', 'rise', 'possibilities', 'healthy', 'singular', 'cosmologies', 'plagued', 'instabilities', 'pathologies', 'somewhere', 'whole', 'shown', 'generically', 'subclass', 'horndeski', 'extend', 'go', 'argument', 'sections', 'pathology', 'implement', 'cap', 'lamost', 'lambda', 'bimodality', 'denote', 'vel', 'tail', 'projected', 'opposite', 'trend', 'majewski', 'propose', 'similarly', 'another', 'substructure', 'chou', 'moves', 'enard', 'vipers', 'cfhtls', 'enables', 'reconstruct', 'clus', 'tering', 'iab', 'vimos', 'public', 'canada', 'france', 'hawaii', 'release', 'inference', 'great', 'employ', 'anomalous', 'ame', 'separation', 'correlations', 'tracers', 'predictor', 'radiance', 'polycyclic', 'aromatic', 'hydrocarbons', 'pahs', 'casting', 'doubt', 'association', 'pah', 'spinning', 'hypothesis', 'disfavors', 'interpretation', 'reconsideration', 'carriers', 'ultrasmall', 'silicates', 'warranted', 'sunyaev', 'zeldovich', 'sz', 'scaling', 'maxbcg', 'matched', 'adapting', 'calibrated', 'relations', 'bin', 'achieving', 'msolar', 'modeled', 'normalisation', 'subsample', 'conform', 'rising', 'coverage', 'unprecedented', 'laws', 'offers', 'clues', 'implied', 'consequences', 'latest', 'efforts', 'reverberation', 'beginning', 'echo', 'encode', 'blr', 'nuclei', 'sophisticated', 'theorized', 'photoionized', 'launched', 'showed', 'proga', 'kallman', 'virialized', 'reliably', 'presenting', 'necessary', 'randomly', 'thin', 'keplerian', 'disks', 'depend', 'inclination', 'always', 'tend', 'tails', 'primarily', 'equatorially', 'inclinations', 'burst', 'signals', 'seconds', 'duration', 'accompanying', 'afterglow', 'plateaus', 'traditionally', 'dhurandhar', 'phys', 'rev', 'far', 'unifies', 'filtering', 'stochastic', 'choices', 'correlate', 'formalism', 'prototype', 'emph', 'classes', 'corsi', 'esz', 'aros', 'astrophys', 'tens', 'excitation', 'barred', 'unbarred', 'virus', 'venga', 'bulge', 'ang', 'differentiate', 'liner', 'dig', 'excluding', 'spaxels', 'date', 'diagnostics', 'isolated', 'spirals', 'shallow', 'had', 'driver', 'contradicts', 'claims', 'ifu', 'shallower', 'cosmologically', 'hydrodynamical', 'prescriptions', 'moderately', 'obscured', 'jansky', 'jvla', 'quasar', 'individually', 'rms', 'jy', 'exposures', 'distinguishing', 'pilot', 'resolve', 'radiatively', 'bubbles', 'mjy', 'wise', 'shares', 'passive', 'signs', 'nuclear', 'photometrically', 'constitute', 'minority', 'matches', 'evaluate', 'quantity', 'phi', 'indication', 'abridged', 'ssp', 'unable', 'colours', 'salpeter', 'assume', 'evaporation', 'relaxation', 'scaled', 'influences', 'flash', 'discreteness', 'moments', 'supergiants', 'die', 'passbands', 'discrete', 'lowering', 'amplifies', 'slopes', 'gradually', 'separations', 'multiplicity', 'microlensing', 'moa', 'blg', 'ogle', 'parallax', 'dwarfs', 'usefulness', 'composed', 'blended', 'comes', 'caustic', 'crossing', 'cadence', 'hydroxyl', 'publication', 'instrumentation', 'advances', 'ho', 'vesta', 'interpretations', 'asteroidal', 'overview', 'closing', 'opportunities', 'anticipate', 'topic', 'discussions', 'elsewhere', 'approx', 'obscuration', 'edge', 'rossi', 'explorer', 'dipping', 'episodes', 'aql', 'dipper', 'exhibited', 'elevated', 'orders', 'every', 'hr', 'intermittent', 'lends', 'raising', 'bursting', 'dip', 'nondetection', 'icecube', 'neutrino', 'compelling', 'utilizing', 'dominantly', 'nu', 'tau', 'cascade', 'interactions', 'muon', 'neutrinos', 'livetime', 'inconsistent', 'solely', 'terrestrial', 'flavor', 'gev', 'sr', 'tev', 'arbitrary', 'validation', 'month', 'nominal', 'ancillary', 'flags', 'rass', 'digitized', 'pushing', 'regime', 'indicators', 'lie', 'programme', 'chance', 'projections', 'bsc', 'robust', 'indicator', 'whereas', 'fsc', 'guarantee', 'bona', 'fide', 'malmquist', 'yx', 'easily', 'departure', 'fermi', 'lat', 'mev', 'sagittarii', 'prompted', 'onsets', 'systematically', 'distinguished', 'encompassed', 'timespans', 'leptonic', 'comparisons', 'exoplanets', 'jovian', 'closer', 'hierarchical', 'exoplanet', 'hd', 'demonstrates', 'mjup', 'coldest', 'imaged', 'integral', 'igr', 'rtt', 'tak', 'antalya', 'turkey', 'hiltner', 'mdm', 'kitt', 'arizona', 'cvn', 'weaker', 'error', 'circle', 'probabilities', 'actual', 'counterpart', 'favors', 'colors', 'conclusive', 'lhc', 'higgs', 'freedom', 'minimally', 'gauss', 'bonnet', 'dimensions', 'generating', 'exit', 'finite', 'folding', 'demands', 'electro', 'supersymmetric', 'ssm', 'solves', 'simply', 'couplings', 'handed', 'supersymmetry', 'states', 'breaking', 'lightest', 'prompt', 'vertices', 'producing', 'leptons', 'taus', 'besides', 'decaying', 'gravitino', 'turns', 'already', 'imposes', 'lifetime', 'exomoons', 'albedo', 'ice', 'cover', 'icy', 'subsurface', 'oceans', 'potentially', 'objective', 'estimations', 'instruments', 'drop', 'feasible', 'ppm', 'difference', 'snowline', 'underestimates', 'become', 'neglected', 'probably', 'elliptical', 'shedding', 'careful', 'combine', 'atlas', 'statistically', 'deduce', 'apertures', 'trivial', 'tie', 'virial', 'heating', 'born', 'infeld', 'simplified', 'conformal', 'explicit', 'unification', 'realized', 'odintsov', 'oikonomou', 'isotropy', 'shannon', 'entropy', 'anisotropic', 'hemispherical', 'inputted', 'introducing', 'pockets', 'quantify', 'anisotropy', 'radially', 'inhomogeneous', 'points', 'distortions', 'separate', 'suitably', 'adapted', 'celestial', 'sphere', 'mdf', 'performing', 'controlled', 'shaped', 'mainly', 'signature', 'shaping', 'outskirts', 'minimal', 'participation', 'conversely', 'resemblance', 'apogee', 'influencing', 'calibration', 'stripe', 'tsz', 'atacama', 'act', 'assumes', 'eddington', 'correction', 'human', 'economic', 'depended', 'resources', 'recognized', 'developments', 'closed', 'economy', 'raw', 'materials', 'renewed', 'private', 'companies', 'established', 'exploiting', 'beneficiaries', 'permit', 'construction', 'unaffordable', 'lifted', 'examples', 'return', 'stations', 'mars', 'benefits', 'resource', 'utilisation', 'society', 'specialist', 'meeting', 'held', 'april', 'summarised', 'unique', 'offered', 'sounding', 'acquire', 'ison', 'november', 'rh', 'dot', 'acquired', 'lyman', 'dissociation', 'parent', 'molecule', 'eccentric', 'cep', 'excite', 'planetesimal', 'eccentricities', 'hundred', 'gaseous', 'embedded', 'drives', 'precession', 'suppressing', 'themselves', 'secular', 'perturbed', 'protoplanetary', 'neglecting', 'drag', 'disturbing', 'problems', 'delineate', 'regimes', 'collisional', 'solids', 'problematic', 'barrier', 'removed', 'precesses', 'own', 'gomes', 'unior', 'positions', 'irregular', 'jupiter', 'phoebe', 'himalia', 'elara', 'pasiphae', 'carme', 'lysithea', 'sinope', 'ananke', 'leda', 'ephemeris', 'desmars', 'belief', 'captured', 'consensus', 'explaining', 'back', 'lot', 'chances', 'ephemerides', 'ucac', 'managed', 'december', 'successful', 'alfalfa', 'gass', 'arecibo', 'stacking', 'mostly', 'reservoirs', 'looking', 'decrease', 'bulges', 'vary', 'bottlenecks', 'converting', 'basis', 'selecting', 'proved', 'hfls', 'lies', 'numerous', 'followup', 'numbers', 'represent', 'challenge', 'spire', 'submm', 'subtraction', 'leap', 'drawback', 'transformed', 'severe', 'crowding', 'layer', 'soar', 'sam', 'quality', 'conducted', 'rr', 'lyrae', 'sx', 'phe', 'uma', 'uncertain', 'uvis', 'revisit', 'suggestion', 'richest', 'stragglers', 'coronal', 'triggered', 'sound', 'flaring', 'minutes', 'loops', 'dictated', 'decay', 'solving', 'hand', 'specifically', 'multipoles', 'henceforth', 'sourced', 'bypassed', 'demonstration', 'nullification', 'anticipating', 'futuristic', 'stationary', 'spacetimes', 'possess', 'refection', 'symmetry', 'equatorial', 'addressed', 'decouple', 'metric', 'rendering', 'purely', 'geometric', 'metrics', 'resultants', 'algorithmic', 'msco', 'mscos', 'explicitly', 'groups', 'tightly', 'multiphase', 'chaotic', 'cca', 'heated', 'condense', 'rain', 'nucleus', 'torus', 'promote', 'cancellation', 'mixing', 'boosting', 'bondi', 'triggers', 'outflows', 'quench', 'destroying', 'cool', 'stifles', 'subsides', 'again', 'restarting', 'ultimately', 'creates', 'link', 'tight', 'regulated', 'preserves', 'gases', 'largely', 'shed', 'comparative', 'tw', 'hya', 'modelled', 'dali', 'herbig', 'depleted', 'tis', 'rock', 'tauri', 'underabundant', 'vertical', 'cosmicflows', 'edition', 'contained', 'entries', 'expanded', 'additions', 'microns', 'spitzer', 'dfgs', 'collaboration', 'augmentations', 'tip', 'compilations', 'zero', 'restriction', 'peculiar', 'monopole', 'representing', 'polars', 'ips', 'lighter', 'langle', 'wd', 'rangle', 'tv', 'columbae', 'fairly', 'heavy', 'cv', 'artifact', 'chxe', 'xlf', 'extends', 'vast', 'ridge', 'ascribed', 'companions', 'evaporating', 'widows', 'ilk', 'facing', 'illumination', 'mediated', 'intra', 'shock', 'ibs', 'icarus', 'parameterized', 'beta', 'rel', 'orb', 'reprocessed', 'emits', 'illustrate', 'computes', 'widow', 'asymmetric', 'psr', 'improvement', 'produces', 'characteristic', 'evap', 'my', 'fully', 'unmodeled', 'argo', 'ybj', 'yangbajing', 'tibet', 'china', 'collected', 'tevs', 'summarize', 'particularly', 'proton', 'plus', 'knee', 'explode', 'answer', 'compute', 'petascale', 'supercomputers', 'elucidating', 'turbulence', 'amplification', 'isotopes', 'ocean', 'island', 'basalts', 'oib', 'discern', 'origins', 'geochemical', 'heterogeneities', 'mantle', 'relatively', 'mil', 'isotope', 'fractionation', 'biochemical', 'precipitation', 'dissolved', 'precipitate', 'preferentially', 'enriched', 'tenths', 'igneous', 'crustal', 'experienced', 'characterizing', 'isotopic', 'comprehensive', 'mc', 'icp', 'diverse', 'originate', 'islands', 'pacific', 'atlantic', 'indian', 'basins', 'end', 'em', 'himu', 'silicate', 'nonetheless', 'mangaia', 'cape', 'verde', 'palma', 'canary', 'iceland', 'recycled', 'altered', 'oceanic', 'lithospheric', 'regards', 'gyrochronology', 'calibrate', 'assess', 'procedures', 'acceptable', 'twins', 'rotator', 'harps', 'eso', 'silla', 'synthetic', 'macroturbulence', 'prescription', 'reflects', 'unusually', 'verified', 'depart', 'skumanich', 'regular', 'scalings', 'assisted', 'sinfoni', 'photocentre', 'rises', 'steeply', 'african', 'clearly', 'rotate', 'kinematical', 'bh', 'mergers', 'virgo', 'scs', 'hts', 'mikkola', 'regularization', 'scheme', 'newtonian', 'kozai', 'lidov', 'kl', 'merger', 'merge', 'exchanges', 'none', 'chirp', 'interpret', 'channel', 'plausible', 'hinge', 'nirspec', 'james', 'webb', 'leakage', 'measurable', 'indirect', 'lasso', 'regression', 'barring', 'biases', 'retrieve', 'fiducial', 'prediction', 'represents', 'reduction', 'galah', 'hermes', 'fibre', 'fed', 'anglo', 'necessitates', 'development', 'pipeline', 'iraf', 'aimed', 'advantage', 'routines', 'software', 'testable', 'talk', 'lifetimes', 'currently', 'contain', 'fractional', 'follows', 'dearth', 'old', 'choice', 'tracks', 'conservation', 'rejuvenation', 'suppression', 'lack', 'older', 'span', 'slowly', 'exceed', 'ultraluminous', 'ugc', 'obscuring', 'mid', 'canaricam', 'cc', 'gran', 'telescopio', 'canarias', 'nicmos', 'subaru', 'comics', 'irs', 'decompose', 'starburst', 'extinction', 'subtracted', 'nenkova', 'geometrical', 'turned', 'subsequently', 'decreased', 'sss', 'photoionization', 'ness', 'grating', 'arising', 'he', 'principal', 'yielding', 'frac', 'yr', 'defined', 'radiated', 'upgrade', 'vlti', 'infrastructure', 'transformation', 'installation', 'separators', 'auxiliary', 'ats', 'uts', 'fringe', 'tracker', 'semester', 'commissioning', 'look', 'ciao', 'wavefront', 'sensor', 'macao', 'astrometric', 'qualification', 'roadmap', 'coherently', 'driving', 'matisse', 'calculate', 'gravito', 'schwarzschild', 'sitter', 'define', 'dziewonski', 'interface', 'iris', 'rope', 'proxies', 'noaa', 'ar', 'nov', 'display', 'fan', 'spine', 'locations', 'tracked', 'specially', 'erupt', 'faded', 'away', 'firstly', 'dome', 'considerable', 'amounts', 'ropes', 'imagination', 'intensities', 'fix', 'deposition', 'integrated', 'oval', 'sputtering', 'microvariability', 'microvariations', 'periodicity', 'probes', 'contrary', 'applications', 'archives', 'tori', 'kehagias', 'sfetsos', 'naked', 'ava', 'dimensionless', 'spacetime', 'singularities', 'geodesics', 'reflected', 'toroidal', 'antigravity', 'stay', 'lcdm', 'manifold', 'sheet', 'lagrangian', 'eulerian', 'equivalent', 'convenient', 'summarized', 'smoothing', 'predominantly', 'crossings', 'wall', 'fabric', 'locally', 'streams', 'neighbouring', 'walls', 'voids', 'uniquely', 'requiring', 'shells', 'closest', 'void', 'typically', 'fof', 'dynamic', 'coronagraphic', 'technology', 'deformable', 'mirrors', 'dms', 'sometimes', 'algorithms', 'purpose', 'focal', 'sensing', 'fpws', 'optimal', 'dm', 'desired', 'achieved', 'procedure', 'shot', 'proposes', 'relying', 'informative', 'configurations', 'distant', 'mitigate', 'limitations', 'predicting', 'treat', 'representations', 'empirical', 'green', 'egf', 'easy', 'block', 'diagonal', 'representation', 'aberration', 'eae', 'sfgs', 'sloan', 'digital', 'experience', 'sfrs', 'hbeta', 'continua', 'modify', 'grb', 'output', 'energetics', 'proximity', 'consequence', 'record', 'interval', 'decades', 'outcome', 'difficulty', 'circumburst', 'media', 'fetched', 'involved', 'installed', 'gpi', 'pictoris', 'distinctive', 'triangular', 'substellar', 'cgs', 'myrs', 'interferometers', 'hera', 'ska', 'promising', 'annihilations', 'computations', 'products', 'treatment', 'annihilation', 'section', 'description', 'pumping', 'disentangling', 'emissions', 'unambiguous', 'optimistic', 'break', 'undoubtedly', 'ingredient', 'eos', 'saturation', 'ffg', 'extrapolation', 'cfg', 'improves', 'nucleons', 'ability', 'dependences', 'conclusions', 'distinguish', 'calculation', 'stochastically', 'dart', 'geometries', 'element', 'sed', 'library', 'tested', 'sph', 'attenuation', 'constituent', 'proportion', 'powered', 'bolometrically', 'astrospheres', 'believed', 'ionisation', 'ambient', 'fsrqs', 'glf', 'concordance', 'ct', 'formulations', 'ple', 'ldde', 'kolmogorov', 'smirnov', 'cumulative', 'count', 'somewhat', 'favour', 'regardless', 'chooses', 'featuring', 'valuable', 'considerations', 'grbs', 'instance', 'gbm', 'sgrbs', 'outlier', 'unusual', 'nascent', 'sim', 'coevolution', 'studying', 'assembly', 'mega', 'comprises', 'spans', 'reduces', 'fpz', 'log', 'residuals', 'invariant', 'dayal', 'bins', 'autocorrelations', 'severely', 'shifts', 'notably', 'machos', 'frbs', 'repeated', 'frb', 'induces', 'milliseconds', 'upcoming', 'chime', 'hundreds', 'yearly', 'echoes', 'lesssim', 'gtrsim', 'characterised', 'ideal', 'learn', 'hmsf', 'starless', 'hmscs', 'violent', 'fragment', 'jeans', 'dispersions', 'extra', 'hyperfine', 'multiplet', 'nh', 'obvious', 'sio', 'hco', 'ions', 'anti', 'clumps', 'illustrates', 'completely', 'electroweak', 'ultrarelativistic', 'nonzero', 'degenerate', 'nonrelativistic', 'frames', 'electric', 'electroweakly', 'neutrons', 'exactly', 'dirac', 'operator', 'implication', 'outcomes', 'implements', 'wdm', 'extensions', 'realisation', 'collapsed', 'differently', 'baldi', 'degeneracy', 'footprints', 'concentration', 'rotations', 'blazars', 'inherent', 'subset', 'overcome', 'microscope', 'proposal', 'select', 'stimulated', 'spontaneous', 'surpassed', 'amplifier', 'tenth', 'incoming', 'hundredth', 'nihao', 'investigation', 'metal', 'vir', 'rounder', 'standing', 'conflict', 'deviate', 'maxwellian', 'underline', 'merlin', 'cobras', 'offer', 'straightforward', 'discrepancies', 'clumped', 'structured', 'microjy', 'translated', 'smooth', 'sol', 'ever', 'hypergiant', 'lbv', 'cyg', 'halpha', 'sampled', 'superoutbursts', 'am', 'boo', 'march', 'june', 'precursor', 'acompanied', 'superoutburst', 'growing', 'superhumps', 'superhump', 'dn', 'analogy', 'vy', 'scl', 'century', 'dasch', 'normally', 'inactive', 'attention', 'kic', 'dimming', 'artifacts', 'menzel', 'believe', 'systematics', 'nights', 'dme', 'hk', 'aqr', 'dg', 'dk', 'pz', 'tel', 'reminiscent', 'prominences', 'prominence', 'sinusoidal', 'periods', 'track', 'height', 'astrophysics', 'charm', 'hadrons', 'pqcd', 'hadroproduction', 'gluon', 'splitting', 'qcd', 'predicts', 'quark', 'arises', 'quarks', 'multiply', 'valence', 'normalize', 'isr', 'lebc', 'mps', 'phenomenology', 'reviewed', 'reconstructions', 'run', 'propagating', 'photodissociation', 'pdr', 'shocked', 'underpredict', 'hinting', 'anomalously', 'reasonably', 'filling', 'protostars', 'quenching', 'collate', 'centric', 'quenched', 'keeping', 'centrals', 'illustris', 'munich', 'viability', 'identically', 'galex', 'violet', 'fuv', 'spanning', 'correlates', 'flatter', 'neither', 'nor', 'blending', 'hypothesize', 'efficiencies', 'proportionally', 'composite', 'solved', 'voronoi', 'tessellation', 'extremely', 'metallicities', 'prevented', 'owing', 'meanwhile', 'promotes', 'elongation', 'filamentation', 'eventual', 'zsun', 'undergo', 'percents', 'path', 'pathfinder', 'apex', 'centaurus', 'conservative', 'conversion', 'surprisingly', 'coincident', 'narrower', 'manage', 'survive', 'passing', 'differentiation', 'oxide', 'molten', 'immiscible', 'rocky', 'solid', 'mgo', 'aftermath', 'integration', 'solvus', 'closure', 'pressures', 'gpa', 'positive', 'energetic', 'exsolution', 'mixture', 'equilibration', 'delivery', 'nominally', 'insoluble', 'soluble', 'coalescences', 'apr', 'sly', 'parametrized', 'piecewise', 'started', 'interbinary', 'eoss', 'discrepancy', 'waveforms', 'until', 'coefficients', 'extrapolating', 'infinity', 'integrating', 'newman', 'penrose', 'pass', 'stress', 'inhomogeneity', 'taylor', 'expandable', 'riemann', 'derivatives', 'applies', 'adaptation', 'wald', 'averaging', 'averages', 'perturbation', 'ensures', 'backreaction', 'derivative', 'exotic', 'fusion', 'collision', 'strengths', 'charge', 'formulae', 'hybrid', 'perpendicular', 'partially', 'upstream', 'vsh', 'fi', 'remnants', 'downstream', 'leak', 'pickup', 'leaking', 'diffusive', 'drift', 'gyroperiods', 'sedov', 'serena', 'unveiled', 'vvv', 'exquisite', 'gems', 'gsaoi', 'jhk', 'decontaminated', 'turnoff', 'locus', 'isochrones', 'king', 'adding', 'crux', 'fourth', 'quadrant', 'segregation', 'life', 'emerge', 'calculating', 'comoving', 'dp', 'dt', 'starting', 'continuing', 'conservatively', 'restrict', 'know', 'unless', 'trillion', 'biosignatures', 'transiting', 'premature', 'allowing', 'ly', 'picket', 'fence', 'named', 'heckman', 'governing', 'binned', 'backscattered', 'simpler', 'overlaid', 'blueshifted', 'outflowing', 'anticorrelation', 'heuristic', 'explanatory', 'califa', 'routine', 'chi', 'mistry', 'erez', 'montero', 'nii', 'fittings', 'normalised', 'inverted', 'squeezed', 'weakly', 'super', 'horizon', 'degrees', 'argued', 'factorized', 'factorization', 'quasi', 'observability', 'detectability', 'equilateral', 'pulsating', 'convective', 'describing', 'overshooting', 'pulsators', 'spacings', 'mesa', 'gyre', 'spacing', 'hertzsprung', 'russell', 'requirement', 'traditional', 'younger', 'zonal', 'coriolis', 'ignores', 'archetypal', 'exceptional', 'persistent', 'establish', 'phenomenon', 'obscurer', 'vicinity', 'details', 'xrays', 'uncover', 'summer', 'unobscured', 'comptonised', 'creating', 'balance', 'photoionised', 'miniature', 'minxss', 'twin', 'cubesats', 'station', 'deployment', 'utilize', 'commercial', 'shelf', 'cots', 'amptek', 'irradiance', 'fwhm', 'lasp', 'photometer', 'graduate', 'students', 'supervised', 'professors', 'professionals', 'colorado', 'boulder', 'bandpass', 'spectrally', 'photometers', 'ionosphere', 'focuses', 'radioactive', 'institute', 'standards', 'nist', 'facility', 'surf', 'linearity', 'objectives', 'smallest', 'gravitationally', 'grow', 'streaming', 'cusps', 'merging', 'analysing', 'cutoff', 'consecutive', 'drive', 'nfw', 'attractor', 'weather', 'worlds', 'patchy', 'surveyed', 'gravities', 'correcting', 'viewing', 'causing', 'micron', 'virtually', 'evolve', 'periodicities', 'contrasts', 'incidence', 'extrasolar', 'harbor', 'youth', 'attractive', 'pic', 'tucana', 'horologium', 'columba', 'argus', 'associations', 'millimeter', 'examined', 'bd', 'pacs', 'resemble', 'hypothesized', 'ancient', 'plate', 'brightnesses', 'azimuthal', 'cpo', 'glimpse', 'characterictics', 'latitude', 'cirrus', 'remote', 'complexes', 'emissivity', 'akari', 'substructures', 'inspired', 'deformation', 'friedmann', 'lema', 'tre', 'robertson', 'walker', 'deformed', 'raychaudhuri', 'setup', 'generates', 'expands', 'dilutes', 'smoothly', 'nontrivially', 'eff', 'omega', 'crosses', 'phantom', 'divide', 'ends', 'rip', 'starts', 'scuba', 'replaces', 'bolometer', 'clerk', 'maxwell', 'jcmt', 'astronomy', 'bolometers', 'dc', 'monolithic', 'filled', 'arrays', 'huge', 'superconducting', 'mk', 'etched', 'bosch', 'isolate', 'nitride', 'membranes', 'electrical', 'connections', 'indium', 'bump', 'bonds', 'squid', 'multiplexer', 'mux', 'update', 'status', 'technological', 'innovations', 'resonant', 'sterile', 'redistribution', 'lepton', 'analytically', 'hadron', 'lattice', 'opacities', 'tree', 'mesons', 'influenced', 'cutoffs', 'exciting', 'frontiers', 'dawn', 'gone', 'averaged', 'coming', 'twisted', 'magnetospheres', 'built', 'avoid', 'pathological', 'currents', 'interfaces', 'remarkable', 'dipolar', 'moment', 'magnetospheric', 'overestimating', 'reorganization', 'twist', 'rad', 'magnetically', 'emitter', 'rotationally', 'ori', 'bouy', 'announced', 'vp', 'lucky', 'astralux', 'calar', 'alto', 'attempt', 'impose', 'msol', 'leaves', 'door', 'inexpensive', 'gaia', 'spring', 'concerned', 'thousands', 'mbas', 'neos', 'astrometry', 'hazardous', 'phas', 'insisting', 'cib', 'nl', 'reconfiguration', 'twists', 'switching', 'carefully', 'polar', 'caps', 'enhancement', 'maximal', 'gets', 'untwisted', 'untwisting', 'cylinder', 'sink', 'advection', 'surfaces', 'infalling', 'bhs', 'mimicking', 'reflective', 'steady', 'subsonic', 'outward', 'convectively', 'sasi', 'qpos', 'accreting', 'marie', 'curie', 'irses', 'coordinated', 'superradiant', 'hairy', 'insight', 'analog', 'costamante', 'ghisellini', 'blazar', 'es', 'emitting', 'vhe', 'bl', 'lac', 'stereoscopic', 'magic', 'hours', 'multiwavelength', 'kva', 'uvot', 'xrt', 'crab', 'absorbed', 'wavebands', 'pfs', 'fiber', 'fibers', 'hyper', 'suprimecam', 'retain', 'throughput', 'positioning', 'um', 'metrology', 'mcs', 'encoder', 'motors', 'configuring', 'positioner', 'cassegrain', 'canon', 'cmos', 'schmidt', 'reasonable', 'tubes', 'adjustments', 'readout', 'cassgrain', 'box', 'glycol', 'cooled', 'cabinet', 'delivered', 'supporting', 'ready', 'start', 'goes', 'name', 'hair', 'refined', 'admits', 'versions', 'simplicity', 'testbeds', 'tell', 'mwc', 'mon', 'fs', 'cma', 'twenty', 'oi', 'depression', 'restricts', 'meraxes', 'temporally', 'custom', 'recombination', 'evolving', 'satisfy', 'inter', 'regulation', 'supply', 'regulating', 'factors', 'theorem', 'characterizes', 'quadrupole', 'kerr', 'formulated', 'everywhere', 'initiative', 'aims', 'developing', 'working', 'options', 'ranging', 'redundant', 'schemes', 'maturity', 'platforms', 'topological', 'defects', 'axion', 'peccei', 'quinn', 'scalars', 'axions', 'symmetries', 'spontaneously', 'broken', 'complicated', 'string', 'collapses', 'nano', 'hz', 'cosmos', 'template', 'minima', 'confound', 'greedy', 'optimization', 'robustly', 'bad', 'brisk', 'annealing', 'ensemble', 'markov', 'chain', 'mcmc', 'arbitrarily', 'brute', 'maintaining', 'steps', 'designing', 'computation', 'superwind', 'analogue', 'injection', 'opt', 'emulate', 'coincide', 'kinds', 'enrichment', 'giving', 'approximate', 'gravitation', 'inhibit', 'expressions', 'inhibition', 'steepness', 'selective', 'metals', 'ursa', 'supercluster', 'dd', 'scuti', 'membership', 'okayama', 'hides', 'elodie', 'expand', 'examining', 'pulsational', 'chemically', 'insufficient', 'asteroseismic', 'brite', 'constellation', 'queries', 'densely', 'packed', 'challenges', 'utilising', 'bounding', 'hierarchies', 'suitable', 'beams', 'positron', 'subhalos', 'subhalo', 'proven', 'daunting', 'lying', 'covers', 'collectively', 'principles', 'restoring', 'susy', 'superfield', 'stabilization', 'ahler', 'superpartner', 'stabilized', 'adjustable', 'tiny', 'monoxide', 'damped', 'echelle', 'thirteen', 'vibrational', 'singlet', 'triplet', 'inputs', 'oscillator', 'natural', 'damping', 'delta', 'stat', 'syst', 'returned', 'gyrs', 'masers', 'maser', 'circinus', 'contemporaneous', 'offsets', 'synthesized', 'redshifted', 'tracer', 'circumnuclear', 'benefit', 'liss', 'niri', 'collimated', 'bipolar', 'emanates', 'knots', 'tips', 'lateral', 'periphery', 'pn', 'competitive', 'datasets', 'precisely', 'zel', 'dovich', 'ksz', 'reconstructed', 'separating', 'realization', 'contemporary', 'locating', 'zones', 'priority', 'alike', 'toolsets', 'aid', 'planning', 'celesta', 'gauged', 'contrasting', 'ascertain', 'investment', 'versatile', 'functionality', 'recalculations', 'updates', 'expect', 'statistic', 'rsd', 'discriminate', 'avoiding', 'alignments', 'correlating', 'cmass', 'auto', 'sys', 'deviates', 'gr', 'cambridge', 'classify', 'hergs', 'lergs', 'compactness', 'fanaroff', 'riley', 'referred', 'fr', 'css', 'gps', 'unclassified', 'australia', 'atg', 'ci', 'icft', 'breit', 'pauli', 'continued', 'robustness', 'increasingly', 'underestimated', 'false', 'conjecture', 'disagreement', 'sequences', 'ceti', 'circumprimary', 'signposts', 'insights', 'archived', 'circumbinary', 'symplectic', 'circumtertiary', 'coordination', 'fun', 'sso', 'campaigns', 'balloon', 'greatly', 'interference', 'stratosphere', 'altitude', 'superpressure', 'superbit', 'emphasizing', 'september', 'actuated', 'tilt', 'mirror', 'progressing', 'operational', 'zealand', 'invoked', 'plateau', 'aligning', 'differentially', 'episodic', 'try', 'favored', 'deriving', 'maybe', 'utc', 'alarm', 'livingstone', 'publicly', 'quantitatively', 'uninteresting', 'clipping', 'assumptions', 'morphologically', 'automated', 'gama', 'wrapper', 'repeatedly', 'catastrophic', 'failure', 'verify', 'percentile', 'decompositions', 'spheroids', 'definite', 'spheroid', 'eagle', 'candels', 'uds', 'fair', 'processed', 'analogs', 'bank', 'rely', 'cavity', 'definitely', 'postshock', 'ammonia', 'passage', 'hifi', 'wish', 'kp', 'proving', 'exclusive', 'principally', 'ukidss', 'logm', 'transitionary', 'rare', 'contributing', 'route', 'transitory', 'resembles', 'evolves', 'steadily', 'dual', 'scalaron', 'defining', 'portrait', 'asymptotically', 'integrable', 'logarithmic', 'replacing', 'priori', 'implicitly', 'pictures', 'expansions', 'rigorous', 'ekpyrotic', 'bouncing', 'outlined', 'satisfied', 'obeys', 'get', 'ejections', 'cmes', 'adverse', 'frequent', 'cme', 'erosion', 'leaving', 'exposed', 'jupiters', 'forecasting', 'trajectory', 'forecat', 'adapt', 'peg', 'trap', 'astrospheric', 'trapped', 'shield', 'rn', 'noble', 'bi', 'po', 'vertex', 'getter', 'xenon', 'carrier', 'left', 'radioactivity', 'chamber', 'demonstrated', 'del', 'popolo', 'romanowsky', 'mcconnachie', 'cloet', 'osselaer', 'monotonically', 'steepen', 'steepening', 'happens', 'dsphs', 'offset', 'baryons', 'di', 'cintio', 'claim', 'governato', 'sheets', 'sustains', 'chosen', 'acting', 'scatterers', 'respond', 'collection', 'energization', 'fokker', 'fp', 'sstochastic', 'reconnecting', 'dogs', 'percentage', 'elusive', 'hidden', 'poor', 'cdf', 'seds', 'composing', 'unabsorbed', 'plot', 'classification', 'cooler', 'programs', 'add', 'handful', 'afterglows', 'mysterious', 'rwbs', 'magnetars', 'rwb', 'abruptly', 'globally', 'programmes', 'abrupt', 'propeller', 'aforementioned', 'resumes', 'periastron', 'cyclotron', 'multipole', 'uncovered', 'likewise', 'build', 'debated', 'knowledge', 'chemo', 'puzzling', 'drove', 'geomagnetic', 'storm', 'sympathetic', 'eruptions', 'eruption', 'surge', 'trigger', 'erupting', 'forced', 'moved', 'failed', 'favorable', 'confining', 'preconditions', 'misclassified', 'subgiants', 'oscillating', 'oscillators', 'hekker', 'quarters', 'ascending', 'remainder', 'nyquist', 'misclassifications', 'reddening', 'flowing', 'obstacle', 'parabolic', 'revolution', 'bow', 'ercsc', 'overlapping', 'opened', 'accommodate', 'enhancing', 'axionic', 'bounded', 'strings', 'overclose', 'vacua', 'identifying', 'cartesian', 'cosine', 'lsst', 'kato', 'hf', 'mentioned', 'really', 'armed', 'zoom', 'consumption', 'pronounced', 'starbursts', 'course', 'colliding', 'starbursting', 'head', 'encounters', 'recovery', 'el', 'oph', 'recovers', 'propto', 'gcs', 'subclusters', 'clearest', 'whilst', 'axes', 'ellipticity', 'boxiness', 'enhancements', 'intracluster', 'cl', 'unrelaxed', 'hat', 'respective', 'curvature', 'lags', 'impulse', 'khz', 'qpo', 'lag', 'frameworks', 'brings', 'captures', 'unbounded', 'issue', 'treated', 'infinite', 'family', 'horsk', 'mitskievitch', 'morgan', 'written', 'oblate', 'smgs', 'deconvolved', 'smg', 'warmer', 'diffusion', 'magnetised', 'protocluster', 'seven', 'hawk', 'emitters', 'haes', 'blank', 'hae', 'hizels', 'overdense', 'richer', 'essentially', 'subfields', 'preceding', 'globules', 'mere', 'comets', 'envisioned', 'fluids', 'analogous', 'lammps', 'forces', 'correctly', 'criterion', 'planetoids', 'formal', 'computer', 'situations', 'differing', 'miyamoto', 'nagai', 'allen', 'santill', 'wilkinson', 'evans', 'navarro', 'frenk', 'refine', 'odotand', 'perpendicularly', 'greatest', 'hold', 'irrgang', 'subjected', 'searching', 'iem', 'incomplete', 'annihilating', 'expectation', 'exclude', 'gordo', 'elongated', 'cometary', 'sign', 'remarkably', 'overlaps', 'connects', 'couple', 'relics', 'uncommon', 'pool', 'suitability', 'unrealistically', 'existed', 'galprop', 'incorporates', 'facto', 'webrun', 'service', 'community', 'browsers', 'dsfgs', 'visibility', 'magnification', 'unlensed', 'spite', 'unity', 'cii', 'fir', 'credence', 'controlling', 'deficit', 'gx', 'softened', 'split', 'relativistically', 'blurred', 'truncated', 'softening', 'divisions', 'division', 'selections', 'rejection', 'ersic', 'evident', 'separator', 'subsets', 'intended', 'benchmark', 'albeit', 'noted', 'ellipticals', 'vuds', 'ecdfs', 'vvds', 'laes', 'ew', 'lae', 'universally', 'thinking', 'trojans', 'organics', 'presumed', 'patroclus', 'moonlet', 'hektor', 'grained', 'kuiper', 'inward', 'swarms', 'became', 'strides', 'ripe', 'geologic', 'unravel', 'fly', 'amr', 'attained', 'integrals', 'moroever', 'storing', 'ramses', 'sachs', 'wolfe', 'checks', 'preparation', 'wolf', 'rayet', 'wr', 'natal', 'tipping', 'overlap', 'hosting', 'mayall', 'mmt', 'extinctions', 'emergence', 'capture', 'nucleosynthesis', 'elemental', 'zr', 'ba', 'ce', 'pr', 'sm', 'eu', 'dy', 'mild', 'barium', 'rpps', 'mwne', 'pwne', 'mwn', 'youngest', 'kyr', 'adopt', 'pwn', 'kes', 'rpp', 'behaviors', 'cta', 'antares', 'drastically', 'observer', 'fluence', 'lander', 'beneath', 'europa', 'decametric', 'roughness', 'diminished', 'ionospheric', 'sounder', 'depths', 'db', 'donor', 'ru', 'storage', 'proof', 'esr', 'gsi', 'darmstadt', 'circulating', 'interacted', 'normalization', 'ingredients', 'hauser', 'feshbach', 'pinned', 'recommended', 'unidentified', 'pne', 'agb', 'amorphous', 'feo', 'retrieved', 'iso', 'noticed', 'hac', 'immersed', 'concluding', 'interested', 'recurrences', 'recurrence', 'plots', 'rps', 'dimension', 'poincar', 'lyapunov', 'measures', 'quantification', 'rqa', 'vs', 'locate', 'progeny', 'spins', 'accreted', 'transferring', 'blew', 'polarimetric', 'sin', 'hei', 'heii', 'darkening', 'synchronous', 'roche', 'lobe', 'overflow', 'gainer', 'synchronization', 'longest', 'unexpectedly', 'wmap', 'gained', 'ortho', 'para', 'irc', 'heterodyne', 'multilevel', 'mir', 'hu', 'sawicki', 'advantages', 'calibrations', 'priors', 'centered', 'lightly', 'canis', 'stringent', 'cuts', 'contaminants', 'faintness', 'obtainable', 'cryogenic', 'traces', 'occupation', 'hod', 'pcf', 'counter', 'mathrm', 'sat', 'richardson', 'hydrostatic', 'biased', 'astronomers', 'empirically', 'portion', 'surprising', 'nonbaryonic', 'stretch', 'seriously', 'facts', 'opinion', 'accordingly', 'exponentially', 'ordinary', 'speculation', 'ill', 'conceived', 'unjustified', 'hereafter', 'remnant', 'needs', 'becoming', 'epsilon', 'rotators', 'boson', 'mixes', 'realizing', 'pseudo', 'nambu', 'goldstone', 'pion', 'abelian', 'su', 'accidental', 'pions', 'comprise', 'corner', 'monophoton', 'meson', 'forests', 'mixed', 'formula', 'quadruply', 'anomaly', 'explanation', 'explosions', 'oscillatory', 'reproduced', 'snii', 'authors', 'rgw', 'divergences', 'graviton', 'gravitons', 'reheating', 'remove', 'practically', 'unaffected', 'regularize', 'unchanged', 'ha', 'displays', 'lobes', 'west', 'east', 'symmetrically', 'sides', 'pa', 'doublet', 'cn', 'dredge', 'blackbody', 'deficient', 'wel', 'textit', 'dendrograms', 'dendrogram', 'linewidth', 'linewidths', 'doradus', 'innermost', 'strip', 'embryos', 'bringing', 'tidally', 'disrupted', 'photoevaporation', 'clockwise', 'cw', 'initially', 'prograde', 'speculate', 'matching', 'orion', 'parental', 'arcseconds', 'arcsecond', 'millimetre', 'delineating', 'fragmented', 'photoablative', 'compressed', 'nonequilibrium', 'izotov', 'lyc', 'cos', 'oiii', 'oii', 'fesc', 'lyalpha', 'leakers', 'acquisition', 'lengths', 'pick', 'escaping', 'circulation', 'dry', 'locked', 'grey', 'gcm', 'subsiding', 'night', 'inefficiency', 'updrafts', 'subsidence', 'convecting', 'let', 'gj', 'pursue', 'parkes', 'fifteen', 'monitors', 'eta', 'caveats', 'lenticular', 'availability', 'wsrt', 'warps', 'warping', 'torques', 'feeding', 'changing', 'quick', 'fading', 'rarity', 'fuelling', 'dominance', 'attribute', 'calculates', 'disturbance', 'propagates', 'bwr', 'icmes', 'deduces', 'drifts', 'onset', 'agreements', 'coronagraph', 'scintillation', 'tii', 'arrival', 'msps', 'employed', 'conjunction', 'projects', 'incorrect', 'imperfect', 'ecliptic', 'sfh', 'mattet', 'smf', 'conditional', 'csmf', 'synthesis', 'clf', 'ensure', 'kilohertz', 'interprets', 'coagulation', 'organised', 'concentrate', 'passively', 'eddies', 'bumps', 'vortices', 'piling', 'friction', 'paradigms', 'critically', 'chondrules', 'primitive', 'blocks', 'chondrule', 'incorporation', 'layered', 'millions', 'unsolved', 'treasury', 'grism', 'aegis', 'goods', 'acs', 'gl', 'skelton', 'fifth', 'augmented', 'slits', 'dispersed', 'automatically', 'optimally', 'interlaced', 'comfortably', 'paired', 'repeat', 'native', 'ergs', 'communicate', 'intelligent', 'beings', 'curious', 'wonder', 'ourselves', 'wondering', 'warms', 'continues', 'equally', 'reasoning', 'propensity', 'ours', 'holds', 'communication', 'serve', 'inform', 'debate', 'sii', 'os', 'falling', 'correspondence', 'come', 'subsamples', 'mix', 'ti', 'lists', 'dup', 'absent', 'technetium', 'partly', 'sco', 'periodically', 'gnovag', 'accumulated', 'billion', 'harmonics', 'approaching', 'character', 'involve', 'discusses', 'launching', 'collimation', 'dissipation', 'emphasis', 'hemispheric', 'helicity', 'strict', 'helical', 'nonrotating', 'magnetoconvection', 'quasilinear', 'reynolds', 'electromotive', 'diamagnetic', 'eddy', 'diffusivity', 'pouquet', 'patterson', 'keinigs', 'prandtl', 'diffusivities', 'grows', 'landscape', 'trgb', 'spaces', 'redder', 'eigenspectra', 'eigencoefficients', 'impacted', 'extrinsic', 'antisymmetric', 'antineutrinos', 'nonvanishing', 'chern', 'simons', 'amplified', 'positrons', 'ny', 'others', 'aasvo', 'indicste', 'exo', 'centers', 'facilitating', 'inspiral', 'externally', 'supplied', 'formulating', 'stresses', 'tides', 'accumulation', 'accelerates', 'viscously', 'doubling', 'inspirals', 'persist', 'verifying', 'coalescing', 'ppe', 'adligo', 'bounds', 'viscous', 'decretion', 'vdd', 'librae', 'similarities', 'cyclic', 'marked', 'nlte', 'hdust', 'darkened', 'unperturbed', 'superimpose', 'reasons', 'vialactea', 'package', 'virtual', 'store', 'purposely', 'packages', 'relational', 'services', 'top', 'base', 'vlkb', 'vo', 'metadata', 'maintenance', 'cutout', 'users', 'lorene', 'footnote', 'http', 'www', 'obspm', 'poloidal', 'endowed', 'magnetohydrodynamic', 'bns', 'whisky', 'incorporate', 'unequal', 'supramassive', 'confined', 'ejected', 'reversal', 'stripped', 'iib', 'ib', 'ic', 'modjaz', 'id', 'subtype', 'subtypes', 'burnt', 'favor', 'diversity', 'adv', 'lirgs', 'investigating', 'nuv', 'reddest', 'valley', 'exhausting', 'esa', 'nasa', 'hazard', 'aspects', 'qualitative', 'mitigation', 'armor', 'orbfit', 'listed', 'corridors', 'visualized', 'nation', 'faces', 'populous', 'countries', 'proxy', 'alteration', 'inclusion', 'risks', 'perturbative', 'renormalisation', 'specify', 'unphysical', 'regularly', 'strung', 'proceeds', 'fashion', 'seeded', 'localised', 'spline', 'kernel', 'helps', 'suppress', 'motivation', 'revisions', 'anistropric', 'softenings', 'cern', 'cast', 'buffer', 'scanned', 'le', 'magnet', 'setting', 'dubbed', 'wisps', 'slim', 'sensitivities', 'sensibilities', 'helioscope', 'evoked', 'pierre', 'auger', 'rd', 'conference', 'rio', 'janeiro', 'brazil', 'maximize', 'kiloparsec', 'call', 'reports', 'autocorrelation', 'colatitudes', 'dec', 'asas', 'assassin', 'asassn', 'lp', 'went', 'prediscovery', 'calibrating', 'secondaries', 'lunar', 'askaryan', 'nanosecond', 'interacts', 'kalyazin', 'westerbork', 'atca', 'lovell', 'lofar', 'lacked', 'advent', 'world', 'africa', 'unsurpassed', 'planned', 'directional', 'obscurers', 'velzen', 'proxied', 'mopra', 'snr', 'hess', 'strengthen', 'liberation', 'mantles', 'sublimated', 'sublimation', 'rc', 'prcgs', 'lss', 'gac', 'hkgs', 'segue', 'prcg', 'hkg', 'localized', 'mbps', 'interwork', 'mbp', 'strengthening', 'patch', 'downflow', 'downdrafts', 'concurrent', 'witnessing', 'occurrence', 'suffering', 'disappears', 'dropped', 'noteworthy', 'downflows', 'exceeding', 'intergranular', 'upflows', 'cxou', 'thermally', 'ccos', 'cas', 'vlba', 'magneto', 'innovative', 'net', 'vital', 'illustrated', 'landau', 'langmuir', 'electrostatic', 'vlasov', 'modifications', 'diagnose', 'mms', 'jerk', 'emphasize', 'hires', 'differentiated', 'howardite', 'eucrite', 'diogenite', 'hed', 'petrology', 'magma', 'consideration', 'thickness', 'conductive', 'lid', 'fo', 'settled', 'kilometer', 'cumulate', 'orthopyroxene', 'thousand', 'diogenites', 'thinner', 'ione', 'teff', 'prerequisite', 'overionization', 'depopulation', 'vega', 'sirius', 'cet', 'her', 'hottest', 'radionuclides', 'evidenced', 'testament', 'nucleosynthetic', 'likelihoods', 'extinct', 'nuclides', 'radiochemistry', 'unexceptional', 'electrodynamics', 'magnetohydrodynamics', 'obliquity', 'magnetization', 'vela', 'kelvin', 'helmholtz', 'turbulences', 'friends', 'barton', 'omit', 'frequently', 'isolation', 'placement', 'wht', 'exploded', 'moreno', 'raya', 'reinforce', 'minimize', 'fastcam', 'iac', 'upct', 'carlos', 'anchez', 'tcs', 'teide', 'northward', 'southward', 'weakened', 'weakening', 'nose', 'drifted', 'poles', 'equator', 'tilted', 'essence', 'clarified', 'sophistication', 'slowing', 'accepted', 'mdr', 'inertia', 'macroscopic', 'microscopic', 'superfluidity', 'conjugated', 'guide', 'seeing', 'qsos', 'eft', 'nucleon', 'exclusion', 'optimum', 'supercdms', 'soudan', 'cdms', 'lux', 'necessity', 'complementarity', 'unbiased', 'prevent', 'squares', 'transferred', 'expensive', 'approximations', 'toy', 'mimic', 'boltzmann', 'song', 'nulling', 'subpulse', 'drifting', 'nulls', 'lasting', 'patterns', 'monitor', 'excels', 'transients', 'thermonuclear', 'untriggered', 'broadly', 'expanison', 'bursters', 'wealth', 'investigates', 'detects', 'columns', 'cones', 'xipe', 'gpd', 'gpds', 'pressurized', 'mcrab', 'panter', 'mpe', 'germany', 'malindi', 'moc', 'inpe', 'intervals', 'lib', 'nearing', 'team', 'incompatible', 'ss', 'satisfactorily', 'galmer', 'relaxed', 'png', 'obfuscated', 'linearities', 'fisher', 'forecasts', 'smc', 'uk', 'ukst', 'pnlf', 'portions', 'delicately', 'nonradiative', 'mcdonald', 'kiso', 'snrs', 'taurus', 'auriga', 'behaves', 'stick', 'mixtures', 'mbar', 'sticking', 'iceline', 'progressive', 'complementary', 'eor', 'populating', 'depressed', 'turnover', 'schechter', 'parameterization', 'quenches', 'interplay', 'jordan', 'unimodular', 'correspondences', 'choose', 'brief', 'wimp', 'secondly', 'wimps', 'accrete', 'supposed', 'repetitive', 'grs', 'sec', 'xte', 'cygni', 'conpanion', 'kiloparsecs', 'inducing', 'sustained', 'conebeam', 'travel', 'sparse', 'anomalies', 'ultrasonic', 'plastic', 'cube', 'stones', 'placements', 'ranked', 'misaligned', 'ram', 'stripping', 'virialization', 'suzaku', 'wake', 'trailing', 'kt', 'westwards', 'bears', 'strengthens', 'semianalytical', 'trees', 'polluted', 'ruling', 'werner', 'wds', 'pollution', 'invoking', 'exacerbated', 'nongravitational', 'motivate', 'treats', 'bose', 'generalize', 'wavefunction', 'hamiltonian', 'clt', 'dacs', 'porb', 'lam', 'signaling', 'linked', 'dac', 'mercator', 'sep', 'cts', 'dependency', 'unpublished', 'ward', 'halting', 'blend', 'centroid', 'shifting', 'blueshift', 'forbidden', 'permitted', 'eboss', 'elgs', 'ruler', 'elg', 'assigned', 'meet', 'requirements', 'decam', 'fulfill', 'flavours', 'eev', 'deeply', 'flavour', 'running', 'sum', 'expectations', 'cfhtlens', 'persists', 'pixie', 'heavier', 'hitherto', 'triply', 'wings', 'stark', 'broadened', 'angstroem', 'pg', 'oversolar', 'assistance', 'buried', 'accounts', 'scms', 'subspace', 'ozertem', 'erdogmus', 'chen', 'ridges', 'nyu', 'mgs', 'lowz', 'partition', 'ignore', 'treating', 'difficulties', 'exploratory', 'ifs', 'belonging', 'wn', 'wc', 'affecting', 'ebl', 'comprised', 'lacking', 'placed', 'ciber', 'chromodynamics', 'dynamo', 'planar', 'unstratified', 'shearing', 'magnetorotational', 'mri', 'amplify', 'wavenumber', 'feed', 'clue', 'ebrahimi', 'blackman', 'induce', 'diurnal', 'instantaneous', 'wigner', 'cloudless', 'retrograde', 'abreviated', 'rstar', 'chloride', 'nacl', 'tio', 'reconciled', 'terminal', 'fastest', 'signalling', 'condensation', 'realising', 'refractory', 'halide', 'hints', 'preventing', 'condensing', 'binding', 'desorption', 'evaporates', 'photodesorption', 'unburned', 'exploding', 'ca', 'subgroup', 'hvf', 'explosive', 'considers', 'budgets', 'saddle', 'hill', 'simulators', 'preserve', 'springel', 'hernquist', 'querejeta', 'destroyed', 'soon', 'regrow', 'leftover', 'laurikainen', 'constitutes', 'serious', 'objection', 'mismatch', 'identical', 'ecosmog', 'tully', 'mtf', 'disagree', 'kyoto', 'soipixs', 'soi', 'insulator', 'microsecond', 'soipix', 'mn', 'auroral', 'peas', 'cuspy', 'usual', 'damp', 'live', 'rigid', 'hercules', 'neighbourhood', 'razor', 'bars', 'hb', 'rds', 'rgb', 'bss', 'tuc', 'thirty', 'meter', 'tmt', 'california', 'naoj', 'nrc', 'herzberg', 'suspended', 'port', 'nfiraos', 'compensate', 'sidereal', 'arrangement', 'tasked', 'tonnes', 'accomplish', 'withstand', 'earthquakes', 'client', 'assists', 'aberrations', 'oiwfs', 'positioned', 'patrol', 'stabilize', 'windows', 'odgws', 'incorporated', 'acquiring', 'tracking', 'mitigating', 'blur', 'clock', 'overtone', 'distinctly', 'rrd', 'rrab', 'modulations', 'blazhko', 'translating', 'reimers', 'postulated', 'blame', 'supergranules', 'inferring', 'wavefield', 'faced', 'approached', 'horizontally', 'translationally', 'supergranule', 'iterative', 'translational', 'invariance', 'misfit', 'iterations', 'invert', 'modal', 'combinations', 'underestimate', 'converge', 'thereby', 'regularizing', 'leq', 'isco', 'mathord', 'preheating', 'inefficient', 'postpones', 'depleting', 'fermions', 'proves', 'subtract', 'computationally', 'sidelobes', 'antenna', 'differs', 'tapering', 'tapered', 'gridded', 'kink', 'seismology', 'chromosphere', 'penumbra', 'hinode', 'limb', 'spicule', 'transverse', 'displace', 'stratified', 'heights', 'chromospheric', 'spicules', 'assertion', 'arxiv', 'totally', 'unfounded', 'unigrid', 'thermodynamical', 'trapping', 'channeling', 'mcws', 'retreat', 'exceptions', 'confinement', 'envisage', 'perspectives', 'spt', 'insensitive', 'polarized', 'hl', 'edges', 'vectors', 'oriented', 'inclined', 'originating', 'proca', 'sixth', 'longitudinal', 'polarizations', 'lagrangians', 'ghost', 'ghosts', 'slip', 'frozen', 'entry', 'dcbhs', 'newborn', 'dcbh', 'cone', 'obs', 'bat', 'erosita', 'evla', 'sectoral', 'spb', 'uninterrupted', 'carries', 'rosetta', 'stone', 'spbs', 'phenomenological', 'poynting', 'termination', 'corrugation', 'convert', 'preheat', 'speculated', 'sustain', 'magnetosonic', 'astrosat', 'flawlessly', 'veritas', 'prototypical', 'tycho', 'sage', 'spec', 'decision', 'classifications', 'deductions', 'photospheres', 'enlil', 'gong', 'wsa', 'swrc', 'magnetopause', 'compression', 'modifying', 'publications', 'excretion', 'sings', 'bima', 'things', 'viva', 'lynden', 'bell', 'kalnajs', 'oftentimes', 'emphasized', 'feasibility', 'radar', 'bistatic', 'receiver', 'arriving', 'thomson', 'summing', 'received', 'theme', 'council', 'decadal', 'spews', 'reservoir', 'salts', 'plumes', 'theo', 'propulsion', 'school', 'student', 'participants', 'guidance', 'teamx', 'radiometer', 'magnetometers', 'ascertaining', 'geological', 'abiotic', 'biological', 'superimposable', 'manifests', 'handedness', 'homochirality', 'biosphere', 'propylene', 'chch', 'spats', 'gzk', 'site', 'glacial', 'alps', 'antarctica', 'acoustical', 'enex', 'acoustics', 'maneuver', 'trilateration', 'transducers', 'secluded', 'crevasses', 'intend', 'melt', 'steering', 'icemole', 'im', 'maneuvering', 'dependencies', 'bridging', 'utilized', 'nanten', 'western', 'sheared', 'apache', 'apollo', 'session', 'superb', 'commensurate', 'korean', 'kvn', 'receivers', 'consisted', 'referencing', 'strategy', 'compensation', 'offering', 'routes', 'verifies', 'sfpr', 'validates', 'renormalisable', 'simeq', 'jump', 'falsifiable', 'ediscs', 'ast', 'caught', 'putative', 'advancement', 'ocs', 'hnco', 'dcn', 'undergoing', 'adequately', 'centimetre', 'submillimetre', 'hypercompact', 'overdensity', 'avoidance', 'perseus', 'pisces', 'mapped', 'hexagonal', 'mosaic', 'pointings', 'cz', 'finds', 'seem', 'modular', 'keep', 'stringy', 'preserved', 'drived', 'potenntial', 'hardly', 'accomodated', 'mimics', 'hilltop', 'falsify', 'rescaling', 'isothermal', 'ellipsoid', 'hypergeometric', 'checked', 'realistically', 'enon', 'cmc', 'nbody', 'gpu', 'retained', 'disagreements', 'overwhelming', 'dramatically', 'kbss', 'mosfire', 'inserted', 'neb', 'harder', 'euv', 'dramatic', 'loading', 'measurably', 'separately', 'tandem', 'lspm', 'parallactic', 'bhac', 'marking', 'ultracool', 'bt', 'settl', 'highlighting', 'pleiades', 'dor', 'grainy', 'neptune', 'semimajor', 'raise', 'perihelion', 'kbos', 'presently', 'diameters', 'favorably', 'census', 'blandford', 'narayan', 'permanent', 'cp', 'pqww', 'ksvz', 'dfsz', 'instantons', 'ssb', 'pq', 'realignment', 'schrodinger', 'simualting', 'bec', 'crises', 'monodromy', 'lsw', 'birefringence', 'admx', 'casper', 'cosmologists', 'bayes', 'sheth', 'tormen', 've', 'rotates', 'breakup', 'balmer', 'circum', 'contributes', 'fill', 'undergone', 'qso', 'loosely', 'sightlines', 'ulas', 'gmc', 'crs', 'gmcs', 'informations', 'impulsive', 'penetrate', 'valleys', 'analogies', 'mechanics', 'completes', 'respecting', 'unveils', 'freeze', 'determines', 'couples', 'daughter', 'triplets', 'exhibiting', 'pan', 'starrs', 'ps', 'inherits', 'adjustment', 'referenced', 'icrf', 'cleaner', 'wherein', 'pressureless', 'asked', 'doing', 'parameterisation', 'generalising', 'generalised', 'gdm', 'viscosity', 'vis', 'descriptions', 'definition', 'thermodynamics', 'solvers', 'ics', 'theoretically', 'circularly', 'vortex', 'annular', 'intense', 'coexist', 'accelerator', 'schwinger', 'keldysh', 'propagators', 'renormalizable', 'pay', 'resummed', 'renormalization', 'shine', 'modulated', 'ignition', 'smeared', 'done', 'smearing', 'rsf', 'abell', 'genuine', 'hybrids', 'inhomogeneities', 'clustered', 'beating', 'monotonic', 'pulsator', 'disclosed', 'jup', 'alters', 'glare', 'swings', 'swing', 'walk', 'multicell', 'hardware', 'interconnected', 'fpga', 'networking', 'nodes', 'economically', 'electronics', 'clocking', 'multiplexing', 'bandwidth', 'correlators', 'terabyte', 'motherboard', 'xilinx', 'kintex', 'processor', 'specialized', 'firmware', 'mezzanine', 'boards', 'industry', 'fmc', 'motherboards', 'packaged', 'slot', 'crates', 'backplanes', 'mesh', 'crate', 'interconnection', 'offload', 'operates', 'multiplexed', 'digitizer', 'hirax', 'mini', 'simp', 'wisepc', 'wisepa', 'dedication', 'sulfur', 'reactive', 'ices', 'isotopologues', 'bowshock', 'chess', 'asai', 'isotopologue', 'networks', 'hydrogenates', 'freezing', 'russian', 'turkish', 'undertaken', 'bolshoy', 'azimutal', 'bta', 'academy', 'sciences', 'identifications', 'redhifts', 'discretisation', 'smoothed', 'hydrodynamics', 'rpsph', 'evaluates', 'respects', 'newtons', 'clumping', 'banding', 'fewer', 'operations', 'isobaric', 'sod', 'tube', 'santa', 'barbara', 'disrupts', 'eccentrically', 'dso', 'enshrouded', 'dead', 'subcritical', 'baroclinic', 'compressible', 'inviscid', 'elliptic', 'hollow', 'vortical', 'stretched', 'columnar', 'vorticity', 'segmentation', 'unfolding', 'symbiotics', 'ag', 'hardened', 'declined', 'redefinition', 'reformulates', 'ohm', 'concepts', 'organization', 'serendipitous', 'operate', 'actually', 'yarkovsky', 'kilometers', 'radiate', 'waveband', 'thrust', 'recoil', 'billions', 'obliquities', 'variant', 'coined', 'keefe', 'radzievskii', 'paddack', 'mysteries', 'dealing', 'preview', 'dibs', 'dib', 'los', 'telluric', 'devised', 'limiting', 'deduced', 'absorptions', 'communities', 'dmp', 'dmps', 'superbly', 'fundamentally', 'foreseeable', 'seek', 'frontier', 'specialised', 'spectrographs', 'contiguous', 'sensus', 'vlt', 'invisible', 'idealized', 'tunnel', 'expulsion', 'negligibly', 'cored', 'baldwin', 'civ', 'palomar', 'widest', 'mbh', 'feii', 'weakest', 'ix', 'daily', 'aia', 'nobeyama', 'radioheliograph', 'norh', 'charts', 'delimited', 'concurrently', 'brightenings', 'predominant', 'unipolar', 'opportune', 'peer', 'articles', 'allwise', 'rigorously', 'vetted', 'positives', 'reserved', 'passband', 'identifies', 'superradiance', 'met', 'coherence', 'dephasing', 'cooperative', 'asteroseismology', 'envelopes', 'tied', 'kinematically', 'apokasc', 'dissipates', 'compress', 'shockfind', 'sonic', 'alfvenic', 'mach', 'subgrid', 'pbhs', 'surviving', 'seeds', 'overproduced', 'waterfall', 'pbh', 'enlarged', 'arp', 'bure', 'pdbi', 'lvg', 'cf', 'eastern', 'en', 'grounds', 'energetically', 'violations', 'shapiro', 'laniakea', 'tightest', 'explores', 'gravitycam', 'delivering', 'sharper', 'penalty', 'fold', 'widefield', 'oort', 'baryogenesis', 'intriguingly', 'reheat', 'decoupling', 'evading', 'nonquadratic', 'superpotential', 'grh', 'qualifying', 'text', 'icm', 'permeate', 'conducting', 'initialize', 'expel', 'afterwards', 'strengthened', 'propagate', 'generations', 'kaons', 'selects', 'honda', 'kaon', 'charmed', 'enberg', 'reno', 'sarcevic', 'spotted', 'lined', 'detached', 'eclipsing', 'wasp', 'todcor', 'bq', 'subgiant', 'rossby', 'mimetic', 'remedy', 'choosing', 'lagrange', 'multiplier', 'vanish', 'domination', 'shall', 'magnifications', 'volumes', 'hops', 'digit', 'bol', 'smm', 'bontemps', 'sensible', 'completions', 'tunings', 'exponentials', 'ignored', 'stabilisation', 'fibration', 'calabi', 'yau', 'manifolds', 'fibrations', 'proportionality', 'generalizing', 'starobinsky', 'attractors', 'voltage', 'connecting', 'fireball', 'dissipated', 'photosphere', 'inevitable', 'loose', 'orientated', 'predefined', 'fail', 'neighbor', 'immense', 'bal', 'weakness', 'peculiarities', 'hobby', 'eberly', 'het', 'salt', 'kollatschny', 'ox', 'reanalysis', 'intrinsically', 'stis', 'transmission', 'irac', 'ofwasp', 'amenable', 'potassium', 'alkali', 'haze', 'sing', 'coolest', 'hazes', 'cloudy', 'mathematics', 'undergraduate', 'discussing', 'everyday', 'turning', 'exceptionally', 'unbound', 'lightcurve', 'tde', 'magnetism', 'starspots', 'bundles', 'traverse', 'gleaned', 'tft', 'buoyancy', 'anelastic', 'modulate', 'buoyant', 'promoting', 'tendency', 'suppresses', 'latitudes', 'exterior', 'divergent', 'poincare', 'appell', 'epstein', 'zeta', 'metastable', 'fills', 'birkhoff', 'regulate', 'conduction', 'superbubbles', 'excessive', 'shutdown', 'loadings', 'circumgalactic', 'falters', 'diverge', 'deepening', 'migrate', 'manifest', 'zoo', 'astrochemical', 'svs', 'hdo', 'corino', 'observig', 'activation', 'reactions', 'taruya', 'accommodates', 'chameleon', 'vainshtein', 'screening', 'capturing', 'elucidate', 'quiescence', 'connect', 'superimposed', 'blobs', 'knot', 'mendoza', 'genetic', 'zeeman', 'snapshot', 'alfv', 'enic', 'contradiction', 'ambipolar', 'mug', 'presumably', 'vlaslov', 'aiming', 'cautionary', 'gross', 'suffice', 'guaranteed', 'amara', 'weighted', 'parameterizations', 'kgk', 'kk', 'kgkg', 'stochasticity', 'mice', 'tomographic', 'nonlinearities', 'halogen', 'lpt', 'simplification', 'flexibility', 'covariance', 'matrices', 'realisations', 'savila', 'mmag', 'footprint', 'disfavor', 'donnell', 'cardelli', 'fitzpatrick', 'sfd', 'overestimates', 'jla', 'tremaine', 'weinberg', 'sba', 'sbbc', 'slit', 'corotation', 'ciii', 'siiii', 'siiv', 'ovi', 'invoke', 'ryd', 'completion', 'broadening', 'abundancess', 'collisionally', 'entrain', 'coalescence', 'deuterons', 'ams', 'ulx', 'middleton', 'ulxs', 'conical', 'opening', 'pinto', 'operable', 'decided', 'prototyping', 'deck', 'rotary', 'lubricants', 'bearings', 'guides', 'ball', 'screws', 'wobbling', 'durability', 'anticipated', 'load', 'fabrication', 'gal', 'sff', 'pile', 'productivity', 'inherited', 'limepy', 'gieles', 'zocchi', 'underfilling', 'correspondent', 'immediately', 'notice', 'algols', 'narrowing', 'algol', 'rlof', 'facilitated', 'strange', 'aka', 'fractal', 'lindner', 'lett', 'golden', 'quasiperiodically', 'exponent', 'nonchaotic', 'reflect', 'eleventh', 'oscill', 'featureless', 'weakens', 'cdss', 'viewed', 'edgeworth', 'fidelity', 'oldest', 'ksec', 'coronagraphy', 'angularly', 'contemporaneously', 'occulter', 'cds', 'endo', 'devoid', 'fgk', 'hosted', 'homogeneously', 'overwhelmingly', 'glsb', 'rivals', 'archetypical', 'malin', 'lsb', 'resides', 'retention', 'transitioning', 'resident', 'sausage', 'magnetoacoustic', 'dpr', 'zebra', 'zp', 'straight', 'slab', 'instant', 'skeletons', 'stripes', 'wiggles', 'prescribed', 'exploitation', 'seismological', 'organizing', 'deploying', 'montage', 'toolkit', 'ascl', 'cubes', 'insertion', 'xmp', 'avm', 'tags', 'wwt', 'interactive', 'visualization', 'wrappers', 'releases', 'healpix', 'managers', 'builds', 'inherit', 'architectural', 'ansi', 'portability', 'unix', 'scalability', 'portable', 'managing', 'august', 'confidently', 'brightened', 'supercritical', 'multicolor', 'cleaned', 'enormous', 'damic', 'ccds', 'resistivity', 'grade', 'electronic', 'unprecedently', 'recoils', 'motivating', 'grams', 'snolab', 'exploited', 'microarcseconds', 'opd', 'dopd', 'dopds', 'performs', 'homodyne', 'lock', 'amplifiers', 'nanometer', 'wit', 'curved', 'whenever', 'electromagnetism', 'sqrt', 'mathbf', 'gg', 'magnetogenesis', 'kinetically', 'contrarily', 'indirectly', 'incorrectly', 'superhorizon', 'causality', 'protracted', 'pivotal', 'characterising', 'spatio', 'exceedingly', 'alternate', 'accelerators', 'hypernova', 'ordering', 'wideband', 'spur', 'unimpeded', 'concentrations', 'winnowed', 'manually', 'worst', 'linearly', 'majorana', 'mediator', 'unitarity', 'mediators', 'missed', 'spheriodal', 'concerted', 'outs', 'revolutionize', 'referring', 'chapters', 'fgl', 'folded', 'rebinned', 'phaseograms', 'phaseogram', 'bluetides', 'wfirst', 'afta', 'hls', 'recast', 'expressed', 'elucidates', 'liners', 'xrb', 'ge', 'favours', 'ringlet', 'treatments', 'voyager', 'gravitating', 'ringlets', 'puts', 'appealing', 'eases', 'dissociating', 'inflows', 'happen', 'basaltic', 'survived', 'bombardment', 'lhb', 'nice', 'survival', 'occurred', 'craters', 'dated', 'ga', 'ago', 'translates', 'meters', 'cratering', 'erased', 'scabs', 'released', 'finish', 'approximates', 'adopts', 'situation', 'estimating', 'comprising', 'showcase', 'assist', 'weaknesses', 'constructive', 'empty', 'bianchi', 'movable', 'laurent', 'kasner', 'teleparallel', 'diagnosing', 'eruptive', 'reversely', 'flank', 'herringbone', 'therein', 'goldilocks', 'kaluza', 'klein', 'excitations', 'lamp', 'teaches', 'directions', 'radion', 'relaxes', 'unseen', 'diagnosed', 'pi', 'eq', 'anticorrelated', 'lsun', 'bimodal', 'discontinuity', 'tdust', 'deficits', 'cocoons', 'spectroheliograms', 'kodaikanal', 'kso', 'plages', 'representatives', 'cycles', 'segmented', 'thresholds', 'plage', 'centroids', 'butterfly', 'sunspots', 'visualisation', 'delineated', 'positional', 'magnetograms', 'weeks', 'mildly', 'confines', 'occupy', 'neutrals', 'kiloyears', 'prodigious', 'cmpc', 'dsfg', 'sfg', 'mature', 'virialize', 'protoclusters', 'formers', 'pv', 'spectacular', 'drastic', 'restructuring', 'thermophysical', 'extraordinary', 'visits', 'spectro', 'posing', 'breakthroughs', 'soils', 'regoliths', 'governs', 'weathering', 'agencies', 'cosmogony', 'profound', 'laboratories', 'elementary', 'essentials', 'lives', 'strips', 'thicknesses', 'yukawa', 'snia', 'panoramic', 'projection', 'ophiuchus', 'discerned', 'extant', 'convincing', 'cmds', 'polarimeter', 'actpol', 'te', 'ee', 'tb', 'eb', 'bb', 'masking', 'circ', 'attenuated', 'irx', 'calzetti', 'irregularities', 'topside', 'whistler', 'regional', 'visualising', 'fais', 'involves', 'transforming', 'tec', 'tangent', 'removes', 'loi', 'murchison', 'mwa', 'practical', 'fai', 'ooty', 'positionally', 'xinglong', 'seasons', 'round', 'lk', 'upgraded', 'huber', 'segmentally', 'atic', 'cream', 'pamela', 'hardening', 'unify', 'minute', 'accumulate', 'gould', 'gbs', 'harp', 'virialised', 'bonnor', 'ebert', 'boundedness', 'southwest', 'northeast', 'sequential', 'extents', 'kinemetry', 'lupus', 'manuscript', 'governed', 'progressively', 'cgm', 'quickly', 'drops', 'lessons', 'modestly', 'supplementing', 'instantaneously', 'calibratability', 'redundancy', 'antennas', 'flung', 'outrigger', 'redundantly', 'calibratable', 'southwestern', 'nonthermal', 'remlight', 'sc', 'thermohaline', 'magnesium', 'apparently', 'birthplace', 'advancing', 'draw', 'iz', 'weiler', 'breaks', 'tachocline', 'originates', 'presumption', 'helping', 'plan', 'controversies', 'karhunen', 'lo', 'eve', 'marginalized', 'carrying', 'marginalizing', 'weighting', 'intuitive', 'feel', 'cosmomc', 'successes', 'quintuple', 'architecture', 'epic', 'easterly', 'westerly', 'speckle', 'rv', 'simplifying', 'discernible', 'glitch', 'glitches', 'cal', 'oligarchic', 'commences', 'protoplanet', 'rxte', 'hfqpos', 'hfqpo', 'hotspot', 'loft', 'polarimeters', 'ixpe', 'polstar', 'praxys', 'assign', 'diminishes', 'disformal', 'superinflation', 'boost', 'contracts', 'irasa', 'shortly', 'refill', 'lose', 'coalesces', 'concerning', 'aur', 'imagery', 'opposed', 'plausibly', 'attempts', 'constrains', 'perturbers', 'presentation', 'geometrically', 'irradiated', 'outbursting', 'adafs', 'variants', 'undesired', 'artefacts', 'asp', 'runtime', 'sidelobe', 'deconvolution', 'bhbs', 'aperiodic', 'variabilities', 'erratic', 'spikes', 'omnipresent', 'mounting', 'extrapolate', 'maestro', 'warrant', 'automation', 'tasks', 'reconfigurable', 'zemax', 'pca', 'weights', 'learned', 'unscented', 'kalman', 'align', 'underdense', 'polarisation', 'wigglez', 'disfavours', 'justifying', 'adoption', 'htra', 'concerns', 'condensed', 'transits', 'gamut', 'astronet', 'vision', 'european', 'engineering', 'feeds', 'flexible', 'infra', 'rankin', 'rodriguez', 'wright', 'appeared', 'disordered', 'swooshes', 'appealed', 'resort', 'resist', 'something', 'dbi', 'nonminimal', 'nkc', 'emit', 'spectrophotometry', 'ikeya', 'murakami', 'ishiguro', 'brightening', 'tangential', 'outbound', 'journey', 'dating', 'crystallization', 'neon', 'onemg', 'modules', 'zoning', 'analytics', 'numerics', 'centrally', 'quantifies', 'initiates', 'ignite', 'contents', 'sql', 'attempted', 'vizier', 'links', 'hash', 'sift', 'browse', 'visualise', 'undertake', 'magnetostatic', 'equilibria', 'abc', 'syrovatskii', 'chaotically', 'diffusing', 'harris', 'weibel', 'collide', 'guiding', 'initiating', 'larmor', 'stop', 'pinpointing', 'karl', 'intentionally', 'undergoes', 'mineralogical', 'plethora', 'nst', 'xxi', 'min', 'separatrix', 'qsl', 'ribbons', 'pil', 'arcades', 'autumn', 'effelsberg', 'bonn', 'ebhis', 'gcn', 'initiate', 'hypervelocity', 'escapers', 'mocca', 'dissipative', 'roma', 'lspe', 'swipe', 'interiors', 'ap', 'equ', 'chara', 'squared', 'zahn', 'contact', 'mo', 'ro', 'odds', 'explanations', 'cocoon', 'multivariate', 'mhyphen', 'sham', 'satisfies', 'overestimated', 'overpredicts', 'blindly', 'purity', 'ensured', 'assessments', 'amongst', 'submission', 'twelve', 'eleven', 'rarest', 'topics', 'invaluable', 'entering', 'eluding', 'gather', 'descendants', 'face', 'reproducing', 'ld', 'milliarcsec', 'hipparcos', 'idealities', 'convolution', 'radiometers', 'abriged', 'classifier', 'segments', 'illustration', 'cosmographic', 'classifiers', 'diva', 'origami', 'discriminating', 'substantiates', 'paves', 'principled', 'scripts', 'manipulating', 'manipulated', 'classifies', 'bubble', 'enthalpy', 'arithmetic', 'visualizing', 'panchromatic', 'phoenix', 'unattenuated', 'unshielded', 'photodissociations', 'maximally', 'ozone', 'spanned', 'eri', 'attributable', 'online', 'mikulski', 'vetting', 'photochemistry', 'trials', 'ra', 'nancay', 'serendipitously', 'gevolution', 'geodesic', 'write', 'gadget', 'proceed', 'nanohertz', 'imposing', 'sardinia', 'craft', 'lrc', 'hump', 'diametrically', 'phasing', 'ds', 'fullerene', 'lin', 'xshooter', 'tlusty', 'ionising', 'photoionisation', 'graphite', 'lesser', 'kpd', 'sdb', 'eclipses', 'ellipsoidal', 'spectacularly', 'subdwarf', 'pmk', 'subtracting', 'devinney', 'fv', 'overcontact', 'ltte', 'tertiary', 'formidable', 'iceberg', 'sur', 'baselines', 'paf', 'gft', 'condensate', 'quanta', 'emphasise', 'foundations', 'lqg', 'condensates', 'lqc', 'familiarity', 'wdms', 'bpt', 'loci', 'retired', 'stopped', 'holmes', 'supposedly', 'tagged', 'reinforces', 'bag', 'thrusted', 'repeater', 'depositing', 'surroundings', 'contributor', 'jan', 'mar', 'northernmost', 'omc', 'takahashi', 'equidistant', 'omcn', 'partners', 'prioritise', 'mpz', 'optimise', 'westerlund', 'pending', 'munari', 'abstract', 'pdf', 'file', 'linearized', 'limitation', 'contaminant', 'nested', 'multilayer', 'collecting', 'wolter', 'replaced', 'poorer', 'paraboloid', 'hyperboloid', 'quadric', 'folds', 'tractable', 'inaccessible', 'planckian', 'kroupa', 'chabrier', 'proposing', 'cmf', 'suites', 'heliograph', 'ukrainian', 'utr', 'ut', 'kept', 'death', 'humped', 'heliographic', 'heliograms', 'fascinating', 'stereo', 'orfees', 'nda', 'rsto', 'nrh', 'records', 'baos', 'lfi', 'telemetry', 'packets', 'tod', 'destriping', 'madam', 'radiometric', 'minimizing', 'reflections', 'transmissions', 'randomness', 'alter', 'bohm', 'dozens', 'introduces', 'prevailing', 'stiff', 'algebraic', 'stabilizing', 'algebra', 'equilibrated', 'deal', 'stiffest', 'timestepping', 'implicit', 'execute', 'timestep', 'algebraically', 'disciplines', 'iptfebh', 'merely', 'cadenced', 'decliner', 'categorized', 'transitional', 'declining', 'subluminous', 'bg', 'intermediary', 'polynomial', 'bosons', 'hypothetical', 'diphoton', 'molscat', 'hutson', 'cs', 'provision', 'challenged', 'straylight', 'payload', 'decontaminations', 'refocuses', 'foreseen', 'scientists', 'experts', 'airbus', 'worked', 'root', 'bam', 'witnessed', 'pristine', 'enlarge', 'calcium', 'strontium', 'isis', 'roms', 'ringdown', 'imrphenompv', 'rom', 'quadrature', 'roq', 'lalinference', 'octupolar', 'quadrupolar', 'vectorial', 'coplanar', 'pericenter', 'meantime', 'calling', 'recalibration', 'hereby', 'tuned', 'ideally', 'assessment', 'spectropolarimeters', 'magnetographs', 'magnetograph', 'imax', 'holography', 'leka', 'birch', 'precede', 'discriminant', 'photopion', 'shakura', 'windd', 'rt', 'iue', 'cirs', 'rmrs', 'initio', 'permits', 'protrude', 'spoke', 'sudden', 'recording', 'didn', 'promised', 'land', 'glashow', 'twentyone', 'muons', 'overlapped', 'uhecr', 'microjet', 'bynary', 'anyway', 'constituents', 'ecology', 'gathered', 'coralie', 'checking', 'synchronized', 'myers', 'perry', 'outwards', 'arguments', 'extremal', 'inwards', 'cauchy', 'paras', 'mt', 'abu', 'india', 'precisions', 'thar', 'niche', 'informing', 'prototypes', 'progresses', 'cutting', 'finder', 'hpf', 'scheduled', 'commissioned', 'neid', 'nn', 'epds', 'anticipation', 'reinforced', 'battlefront', 'velocimeters', 'glance', 'contexts', 'pitaevskii', 'gpp', 'thomas', 'tf', 'radioactively', 'iptfdtg', 'bm', 'breakout', 'sbo', 'nat', 'lab', 'occasions', 'braun', 'rekindled', 'hinted', 'analogues', 'universes', 'borderline', 'contracting', 'flatness', 'analogously', 'ending', 'ara', 'oba', 'rim', 'studing', 'ubviha', 'proceeded', 'yeti', 'bessel', 'unreported', 'lorentzian', 'nontrivial', 'vdvz', 'dsph', 'sculptor', 'methodologies', 'stetson', 'cepheids', 'phoenicis', 'herculis', 'bailey', 'coexistence', 'subpopulations', 'themis', 'atypical', 'departs', 'tornadoes', 'stokes', 'azimuth', 'hanle', 'oversimplified', 'superposition', 'vera', 'kava', 'energized', 'unrealistic', 'disfavoring', 'rolling', 'tachyon', 'sps', 'demanded', 'imfs', 'objectively', 'erismod', 'failures', 'conventionally', 'evaluating', 'accelerations', 'coreness', 'distinction', 'precedes', 'stitching', 'detrending', 'controls', 'pace', 'maturation', 'geq', 'masse', 'formulas', 'omicron', 'aquarii', 'npoi', 'cqe', 'compares', 'weight', 'disparity', 'mags', 'mohanty', 'unnecessary', 'recs', 'ames', 'madhusudhan', 'suspend', 'gradiometry', 'batch', 'linearization', 'agency', 'denied', 'navigation', 'routinely', 'exao', 'zernike', 'circumvent', 'nanometric', 'manufacturing', 'zelda', 'reintegration', 'chile', 'elts', 'ease', 'differentiating', 'stacked', 'smallness', 'spoil', 'prospective', 'zams', 'tams', 'combinational', 'cascades', 'never', 'coherency', 'utility', 'uhe', 'promise', 'facet', 'boundaries', 'parameterised', 'jumping', 'rave', 'multiplying', 'crowded', 'saturated', 'danish', 'equipped', 'dandia', 'automatic', 'virginis', 'strasbourg', 'bcgs', 'von', 'linden', 'inhabit', 'prefer', 'cd', 'grew', 'adds', 'boss', 'apo', 'marvels', 'outputs', 'added', 'ugriz', 'aggregates', 'reaccumulation', 'neowise', 'albedos', 'reactivated', 'kachru', 'kallosh', 'linde', 'trivedi', 'kklt', 'consumes', 'lockman', 'cataloguing', 'confusion', 'volts', 'superbubble', 'ddo', 'lynx', 'cancer', 'binocular', 'unequivocally', 'flea', 'fleas', 'biting', 'jonathan', 'words', 'ssc', 'lifshitz', 'mei', 'pope', 'ads', 'horseshoe', 'yn', 'documented', 'joining', 'ranks', 'gu', 'lx', 'ol', 'switches', 'episode', 'lengthy', 'orbitals', 'lights', 'scatterings', 'comptonization', 'yellow', 'fuzzy', 'decohere', 'wavefronts', 'emanating', 'nucleii', 'populated', 'superfluids', 'recalculating', 'pinning', 'mbox', 'cms', 'immediate', 'creep', 'sketch', 'dimensionality', 'anthropic', 'homogeneity', 'deserves', 'tagging', 'strictly', 'poses', 'aggregate', 'rarely', 'pulsing', 'raishin', 'precessional', 'inlet', 'helically', 'kinked', 'govern', 'characterises', 'spotless', 'discarded', 'lsol', 'floating', 'populate', 'circles', 'antipodality', 'holonomy', 'positively', 'maximizes', 'prove', 'unavoidable', 'maintains', 'divergence', 'unstructured', 'arepo', 'powell', 'cleaning', 'artificially', 'conserved', 'saturates', 'refinement', 'adaptivity', 'tolman', 'oppenheimer', 'volkoff', 'tov', 'infty', 'lwa', 'qualified', 'gradual', 'dedispersed', 'meaning', 'diffractive', 'scintillations', 'bandwidths', 'subintegration', 'maximise', 'murchision', 'dolidze', 'anticentre', 'fastwind', 'sh', 'sharing', 'condensible', 'substances', 'familiar', 'dilute', 'sense', 'noncondensible', 'nondilute', 'instellation', 'seasonally', 'latent', 'seasonal', 'forcing', 'iacts', 'iact', 'graphical', 'gui', 'server', 'sockets', 'graphics', 'js', 'javascript', 'reionisation', 'starved', 'shielded', 'recombinations', 'cosological', 'violate', 'continuity', 'posteriori', 'starspot', 'euler', 'pose', 'prompting', 'sharp', 'meta', 'mcxc', 'maximised', 'underlining', 'dyn', 'chamberlain', 'pointed', 'redmapper', 'fell', 'entered', 'uncontaminated', 'debiasing', 'contaminated', 'deprojection', 'mathematically', 'qml', 'manipulation', 'unfeasible', 'citet', 'fkp', 'feldman', 'debias', 'optimality', 'ignited', 'flame', 'burns', 'flashes', 'contract', 'urca', 'activate', 'steer', 'encircle', 'littering', 'thesis', 'examines', 'pssi', 'iin', 'reclassified', 'csm', 'nondetections', 'outshine', 'overluminous', 'rebrightened', 'blob', 'intricate', 'felix', 'saddles', 'morse', 'smale', 'query', 'finders', 'shadowed', 'characterizable', 'extractable', 'rsgs', 'dictate', 'mdot', 'jager', 'justification', 'rsg', 'iip', 'dune', 'lbnf', 'astroparticle', 'apparatus', 'unrivaled', 'neutronization', 'nuclide', 'spallation', 'geant', 'sea', 'cosmogenic', 'contributed', 'magmatic', 'metamorphic', 'sfhs', 'zspec', 'ssps', 'cassara', 'gossip', 'abastumani', 'rem', 'rossixte', 'asm', 'agile', 'retarded', 'obstacles', 'tamed', 'eliminated', 'snapshots', 'adaptable', 'shortest', 'desert', 'disintegrating', 'suspected', 'anir', 'tokyo', 'minitao', 'summit', 'cerro', 'chajnantor', 'paschen', 'throughputs', 'precipitable', 'pwv', 'transmittance', 'radiometry', 'alt', 'cfht', 'focas', 'keckii', 'deimos', 'dropout', 'incidental', 'comae', 'vine', 'configured', 'accretes', 'returning', 'losing', 'replenishment', 'virtue', 'wrates', 'periapse', 'ggtaua', 'manifestations', 'unfavorable', 'av', 'parsecs', 'damage', 'durations', 'formations', 'certainly', 'accessing', 'cylinders', 'harboured', 'emphasizes', 'traceable', 'multilayered', 'sent', 'relay', 'batteries', 'panels', 'subsystems', 'united', 'procurement', 'protection', 'aeroshell', 'troposphere', 'cosmogenically', 'galileo', 'spends', 'massed', 'nulnu', 'restframe', 'blackbodies', 'templates', 'experiences', 'irradiation', 'intensive', 'abel', 'appearing', 'posed', 'tikhonov', 'smoothness', 'centering', 'interarm', 'birthplaces', 'muse', 'contaminating', 'mukhanov', 'sasaki', 'predictability', 'lost', 'standardly', 'stays', 'disappear', 'converges', 'concluded', 'hba', 'furthest', 'cobe', 'firas', 'dirbe', 'millimeters', 'finkbeiner', 'davis', 'schlegel', 'meisner', 'graybody', 'fds', 'overtaken', 'sheath', 'gcrs', 'icme', 'superposed', 'insitu', 'ace', 'mcmurdo', 'sheaths', 'slowed', 'compressing', 'gcr', 'operative', 'contraction', 'freshly', 'accepting', 'repeating', 'xis', 'lightness', 'unified', 'reheats', 'collider', 'volumetric', 'superluminous', 'slsne', 'snls', 'perrett', 'slsn', 'gpc', 'ulgrbs', 'megamaser', 'necessarily', 'suprathermal', 'kappa', 'decoding', 'interdependence', 'clarifying', 'pipelines', 'utmost', 'heiter', 'parallaxes', 'jofre', 'fixing', 'recommend', 'announce', 'aquarius', 'fringes', 'vst', 'hardest', 'bhc', 'ami', 'xrbs', 'lls', 'llss', 'absorbers', 'render', 'lb', 'vello', 'contracted', 'quasistatic', 'mimicked', 'rebounding', 'viz', 'experiencing', 'assisting', 'virially', 'rossiter', 'mclaughlin', 'trappist', 'facilitate', 'ample', 'reflex', 'jitter', 'lastly', 'chromatic', 'twofold', 'hampers', 'shots', 'otes', 'weeren', 'clones', 'photographic', 'iau', 'mdc', 'neas', 'qg', 'ry', 'viii', 'superhot', 'fluorescent', 'employs', 'egase', 'dz', 'excised', 'sepia', 'classifying', 'hfi', 'hcm', 'xco', 'deposited', 'reconstructing', 'topologies', 'uncontained', 'quantization', 'bridge', 'modellings', 'implementing', 'care', 'hypersurface', 'propagated', 'falsifiability', 'larson', 'bit', 'normalizations', 'definitive', 'participating', 'ddmy', 'talys', 'macs', 'stem', 'irtf', 'spex', 'validated', 'surveyor', 'dichroic', 'modulator', 'chilean', 'collister', 'lahav', 'pdfs', 'neural', 'training', 'iftachsadeh', 'richards', 'dimmer', 'coadded', 'correctable', 'incompleteness', 'jhks', 'additive', 'autonomous', 'submanifold', 'sectors', 'jungle', 'lotka', 'volterra', 'repellers', 'rectangle', 'puzzles', 'bigravity', 'lemaitre', 'tangherlini', 'figured', 'horizons', 'embedding', 'actively', 'magnified', 'starforming', 'ad', 'hoc', 'comic', 'synchronicity', 'evpa', 'attracted', 'deterministic', 'ricci', 'sanders', 'ntt', 'smmf', 'wilcox', 'wso', 'pearson', 'equals', 'polarities', 'sunrise', 'wm', 'twice', 'athay', 'revives', 'transporting', 'lanes', 'granules', 'borders', 'dots', 'win', 'alfven', 'rival', 'alternatives', 'uie', 'micrometer', 'stretching', 'bending', 'vibrations', 'hydrocarbon', 'flying', 'aliphatic', 'stretches', 'chains', 'methylated', 'cations', 'methyl', 'ene', 'appreciably', 'massless', 'curl', 'hgcdte', 'neocam', 'crocker', 'substrate', 'cdznte', 'grown', 'luminescence', 'hit', 'dewar', 'photocurrent', 'complicating', 'sncc', 'rgs', 'firmly', 'mos', 'enrichments', 'cnds', 'cnd', 'fueling', 'consumed', 'architectures', 'hip', 'commensurability', 'oblateness', 'comparatively', 'ls', 'hq', 'cam', 'st', 'cha', 'flickering', 'ux', 'quoted', 'xxl', 'selectable', 'incompressible', 'gyroresonance', 'recompute', 'robotic', 'stella', 'imap', 'rvs', 'amadeus', 'photoelectric', 'apt', 'johnson', 'cousins', 'longitudes', 'lap', 'lomb', 'scarge', 'periodogram', 'whitened', 'ae', 'equlibria', 'preclude', 'microturbulence', 'restricting', 'volatiles', 'overabundant', 'depletions', 'zinc', 'precluding', 'krypton', 'dielectronic', 'trielectronic', 'quadruelectronic', 'mounted', 'comprehensively', 'benchmarked', 'premise', 'cubic', 'spun', 'longitude', 'elimination', 'clarify', 'cooperstock', 'tieu', 'balasin', 'grumiller', 'psd', 'argonium', 'arh', 'lever', 'hilbert', 'springs', 'singles', 'hydro', 'floor', 'floors', 'halving', 'transported', 'diffused', 'ntfs', 'yusef', 'zadeh', 'morris', 'lang', 'chcn', 'choh', 'micro', 'hypotheses', 'hh', 'flattened', 'sgp', 'cbs', 'dbv', 'handler', 'metcalfe', 'wood', 'bohyunsan', 'doublets', 'singlets', 'texttt', 'wdec', 'eigenperiods', 'kmosd', 'mzr', 'tripling', 'delauney', 'tesselation', 'dtfe', 'examination', 'comment', 'triangulum', 'draco', 'sphericity', 'optimizing', 'shanghai', 'shao', 'pyramid', 'wfs', 'piston', 'ultimate', 'fizeau', 'bench', 'pupils', 'achromatic', 'pyramids', 'prisms', 'manufactured', 'workshop', 'crystallinity', 'trans', 'neptunian', 'tnos', 'crystalline', 'haumea', 'quaoar', 'orcus', 'crystallinities', 'obviously', 'typhon', 'cryovolcanism', 'nlss', 'classic', 'blss', 'sami', 'egb', 'daoz', 'descended', 'mira', 'cru', 'jem', 'ibis', 'isgri', 'rauger', 'sd', 'argentina', 'terminated', 'coincidences', 'zenith', 'convex', 'optimisation', 'compressive', 'herein', 'proximal', 'regularisation', 'sparsity', 'adequate', 'exploits', 'randomisation', 'iteration', 'rmean', 'uves', 'subhaloes', 'disrupting', 'gaps', 'pal', 'plasmoids', 'unprecedentedly', 'plasmoid', 'happening', 'regarded', 'hillas', 'preselection', 'ensuring', 'topometric', 'dbscan', 'visually', 'spmhd', 'stabilise', 'inaccurate', 'misinterpreted', 'ignoring', 'culprit', 'kinetics', 'blowout', 'liu', 'fang', 'sigmoidal', 'demagnified', 'embodied', 'connell', 'approving', 'foldings', 'moduli', 'lowers', 'kaehler', 'uniformity', 'discretely', 'mathcal', 'varepsilon', 'contradict', 'massiveblack', 'mbii', 'misalignments', 'hmpc', 'ed', 'cusped', 'paranal', 'surround', 'supernu', 'kashyap', 'ay', 'hourglass', 'dormant', 'identifiable', 'indistinguishable', 'xingming', 'flamingo', 'cdot', 'reddish', 'canadian', 'cmor', 'temporary', 'resided', 'jfcs', 'aging', 'quietly', 'mining', 'wfcam', 'scarce', 'colored', 'ambiguous', 'publish', 'underwent', 'jodrell', 'xinjiang', 'publishes', 'monthly', 'porter', 'avoided', 'violently', 'eggleton', 'birthrate', 'dominent', 'plans', 'hemispheres', 'asia', 'preferably', 'qinghai', 'tibetan', 'invested', 'chinese', 'delingha', 'node', 'safely', 'usage', 'ecc', 'sofia', 'irreversible', 'facets', 'spectropolarimetry', 'omegawhite', 'discovering', 'omegacam', 'vphas', 'sweeping', 'az', 'dq', 'cvs', 'sct', 'leakages', 'rightarrow', 'faraday', 'wedge', 'chromospherically', 'nordic', 'marcs', 'uwish', 'cassiopeia', 'mhos', 'cttss', 'asymmetrical', 'fu', 'ex', 'mnors', 'pdrs', 'encompassing', 'blocking', 'multicomponent', 'vta', 'bootes', 'mike', 'boootes', 'cemp', 'reassess', 'swallowing', 'catuaba', 'machinery', 'bse', 'aspherical', 'planes', 'impel', 'precess', 'stray', 'nutate', 'crudely', 'straying', 'swinging', 'ought', 'intuition', 'triaxial', 'taiwan', 'tenis', 'cdfs', 'deblended', 'tfit', 'playing', 'designated', 'evolutional', 'who', 'submit', 'apparitions', 'hungarias', 'founded', 'accuracies', 'auxilary', 'seperate', 'ascii', 'tables', 'files', 'documenting', 'facilitates', 'astrochemistry', 'vamdc', 'mysql', 'xmass', 'pseudoisothermal', 'burkert', 'peripheral', 'impossible', 'universality', 'restrictions', 'ing', 'plemented', 'servational', 'reviewing', 'magneticum', 'convolved', 'russia', 'multifaceted', 'endeavor', 'disciplinary', 'organizations', 'auspices', 'universities', 'lasted', 'localization', 'invokes', 'kick', 'znajek', 'scanning', 'burstiness', 'figure', 'idealised', 'simplifications', 'tries', 'unassociated', 'aboard', 'abdo', 'mmin', 'nolan', 'seemingly', 'spectator', 'bulgeless', 'mond', 'adjusting', 'noncircular', 'uckelberg', 'translations', 'operators', 'stuckelberg', 'kreidberg', 'outgassing', 'schaefer', 'fegley', 'oxidizing', 'subsolar', 'makeup', 'gibbs', 'archetype', 'kcl', 'zns', 'morley', 'miller', 'kempton', 'zno', 'metallic', 'intensively', 'unstudied', 'oversampled', 'subgroups', 'compete', 'timesteps', 'quad', 'cusp', 'dividing', 'astroid', 'signed', 'fermat', 'consistencies', 'mmirs', 'clay', 'las', 'campanas', 'vista', 'lactea', 'rrlyrae', 'prominently', 'movie', 'isochrone', 'poststarburst', 'institut', 'radioastronomie', 'millimetrique', 'carma', 'spogs', 'hdelta', 'spog', 'msuns', 'emir', 'salopek', 'bardeen', 'bond', 'sbb', 'emerges', 'anamorphic', 'encountering', 'observably', 'megamasers', 'hg', 'hgmn', 'nickel', 'odd', 'copper', 'heaviest', 'appendices', 'fused', 'velorum', 'overabundances', 'backbone', 'mind', 'consolidated', 'focussed', 'sure', 'untangle', 'nerve', 'handle', 'possessing', 'organic', 'liberated', 'radex', 'enhances', 'divides', 'midplane', 'michi', 'spica', 'usa', 'nan', 'uran', 'ukraine', 'spectrograms', 'flashlight', 'beacon', 'elapses', 'abound', 'epm', 'dilution', 'standardized', 'candle', 'whisp', 'jacobi', 'minus', 'eugenia', 'sylvia', 'minerva', 'kleopatra', 'shadows', 'extremally', 'majumdar', 'papapetrou', 'exemplars', 'admit', 'uncountably', 'perpetual', 'symbolic', 'shadow', 'akin', 'cantor', 'slices', 'switch', 'wada', 'chaos', 'rearranges', 'solver', 'demanding', 'stepping', 'hartle', 'thorne', 'boosts', 'macroparticles', 'marcos', 'rescale', 'abacus', 'ffts', 'emulators', 'lgarrison', 'plt', 'organized', 'supershells', 'gigantic', 'hvcs', 'supershell', 'hvc', 'chvc', 'collided', 'trip', 'inject', 'nifs', 'ppak', 'occupies', 'securely', 'pathways', 'vice', 'versa', 'stressed', 'uranium', 'vm', 'assemble', 'congeners', 'manganese', 'astral', 'citep', 'ayr', 'goddard', 'ghrs', 'furenlid', 'westin', 'kurucz', 'wahlgren', 'coworkers', 'uvespop', 'narval', 'polarbase', 'unavailable', 'workers', 'restored', 'gaussianities', 'trispectrum', 'bispectra', 'looser', 'converged', 'augment', 'grafting', 'branches', 'radiocarbon', 'strike', 'oftwo', 'giano', 'nazionale', 'impossibility', 'advice', 'sixty', 'interpolate', 'yonsei', 'yale', 'ibased', 'beast', 'probabilistic', 'extinguished', 'infers', 'encompasses', 'kat', 'grand', 'score', 'crps', 'pit', 'forest', 'ninth', 'decoupled', 'resonantly', 'chloronium', 'hcl', 'suprime', 'shears', 'locuss', 'cccp', 'clash', 'weighing', 'augurs', 'cses', 'tp', 'inability', 'planetology', 'lutetia', 'encountered', 'pecora', 'escarpment', 'chondrites', 'unweathered', 'hydrated', 'elastic', 'gme', 'skm', 'sk', 'skyrme', 'crusts', 'overtones', 'maneto', 'story', 'merline', 'kw', 'fg', 'pushed', 'limiter', 'megaparsecs', 'indexing', 'stored', 'gri', 'appendix', 'ended', 'absorb', 'gunn', 'peterson', 'wing', 'latitudinal', 'ribbon', 'residing', 'ifr', 'cfr', 'raster', 'upflow', 'hxr', 'visibilities', 'conducive', 'rheology', 'approximating', 'viscoelastic', 'multiplied', 'iaka', 'served', 'safari', 'testbed', 'horn', 'tes', 'bolmeters', 'illuminators', 'pipe', 'reimaging', 'detailing', 'pertinence', 'underluminous', 'eno', 'beamed', 'sphng', 'discretised', 'meshless', 'gizmo', 'vertically', 'alterations', 'refining', 'narrowband', 'tended', 'overestimate', 'yrs', 'arisen', 'lbvs', 'smith', 'tombleson', 'humphreys', 'subdivided', 'runaways', 'runway', 'gainers', 'unimportant', 'tending', 'competing', 'complicates', 'alcock', 'paczynski', 'lyot', 'keeps', 'motorized', 'alert', 'ulirgs', 'ulirg', 'modulating', 'comptonized', 'qop', 'severity', 'microlens', 'photochemical', 'barnes', 'uninhabitable', 'longward', 'glint', 'photosynthesis', 'shortward', 'microbial', 'biospheres', 'photosynthetically', 'mystery', 'motivates', 'sublimating', 'parametrizing', 'rims', 'develops', 'pebbles', 'hexte', 'iodine', 'hexbcorr', 'efficacy', 'apiece', 'goodness', 'scope', 'hon', 'csp', 'adjusted', 'beryllium', 'diodes', 'pitch', 'ahead', 'dfft', 'spirality', 'agreed', 'nonminimally', 'ceases', 'tetrad', 'stemming', 'isospin', 'pasta', 'qmd', 'maximizing', 'processors', 'foundation', 'happened', 'recounting', 'compatibility', 'gluons', 'superluminal', 'chatelier', 'valued', 'propagator', 'fulfillment', 'alive', 'positivity', 'steiger', 'zurbuchen', 'asplund', 'vagnozzi', 'helioseismological', 'worse', 'overproduction', 'cno', 'experimentally', 'vsz', 'fare', 'agss', 'implausible', 'qatar', 'ttvs', 'knbhs', 'knbh', 'postulate', 'normalising', 'casts', 'surrounds', 'lecture', 'environ', 'tabulated', 'glueballs', 'colliders', 'conveniently', 'uvb', 'dispelling', 'underproduction', 'crisis', 'lris', 'interloper', 'esc', 'mse', 'commonplace', 'linkage', 'cataloged', 'bluest', 'sextractor', 'plotting', 'isocontours', 'decontamination', 'pdmf', 'quasinormal', 'underproduce', 'discrepency', 'timings', 'multiplication', 'inequalities', 'noticeably', 'lh', 'visit', 'rebrightening', 'lya', 'nuller', 'flared', 'fails', 'whereby', 'mcclure', 'came', 'menu', 'sdssj', 'rxsj', 'eludes', 'grond', 'mpi', 'complementing', 'recovering', 'gigahertz', 'euclidean', 'downturn', 'configurable', 'ttf', 'asterisms', 'poa', 'fov', 'poas', 'descent', 'summarise', 'broadenings', 'northeastern', 'decelerated', 'nondegenerate', 'braneworld', 'brane', 'phot', 'logl', 'dropping', 'overpredict', 'clover', 'horns', 'arranged', 'finline', 'neps', 'fabricated', 'chip', 'functioning', 'waveguides', 'bath', 'submissions', 'icrc', 'lodz', 'poland', 'visir', 'photolysis', 'maintained', 'sl', 'google', 'prize', 'competition', 'lightweight', 'opto', 'realize', 'dfs', 'constructs', 'capacities', 'memories', 'plummer', 'ckel', 'ktonne', 'argon', 'chambers', 'lar', 'tpcs', 'radiogenic', 'tonne', 'tpc', 'lngs', 'pep', 'borexino', 'ejects', 'bullets', 'flip', 'flops', 'concert', 'bullet', 'flop', 'warped', 'precessing', 'titan', 'hc', 'elevation', 'protosolar', 'nitrile', 'deuterium', 'cyanide', 'methane', 'imps', 'isee', 'encompass', 'occasional', 'gles', 'official', 'ggt', 'gradiometer', 'grf', 'ecef', 'attitude', 'eigen', 'translate', 'eigenvalues', 'eigenvectors', 'simplespecific', 'aiding', 'guess', 'terrain', 'cmd', 'snow', 'regulates', 'soaring', 'gini', 'disruptive', 'ngvs', 'hevics', 'screen', 'overly', 'simplistic', 'neglect', 'situated', 'abnormal', 'crw', 'yso', 'ellerman', 'qseb', 'qsebs', 'bombs', 'ebs', 'spectrometry', 'swedish', 'sst', 'facular', 'neighboring', 'excludes', 'condenses', 'siding', 'undetermined', 'bhad', 'sfrd', 'veiled', 'lacs', 'hbls', 'dsa', 'relates', 'edd', 'ubiquitously', 'subtle', 'imperfections', 'impurity', 'devices', 'timely', 'sazaki', 'minimisation', 'renormalised', 'distinguishable', 'ekman', 'geodynamo', 'martian', 'sgrb', 'marks', 'supra', 'acis', 'jumps', 'sloshing', 'asymptoyic', 'compounds', 'inorganic', 'fullerenes', 'graphene', 'oxides', 'vhes', 'worldline', 'continuation', 'grazing', 'unrelated', 'xo', 'diffeomorphism', 'brackets', 'gauges', 'piernik', 'relaxing', 'diminishing', 'rtvd', 'poster', 'emergent', 'synspec', 'dunes', 'merged', 'seldom', 'lacks', 'unsuccessful', 'basing', 'leptokurtic', 'kurtosis', 'hansa', 'barcelona', 'gallia', 'astrid', 'ceres', 'pallas', 'pericenters', 'wound', 'diagrammatic', 'encapsulated', 'plague', 'resummation', 'supervisory', 'guardian', 'automaton', 'hierarchically', 'paced', 'table', 'dollar', 'instructive', 'transportation', 'canopy', 'compressibility', 'chiron', 'caha', 'casleo', 'chariklo', 'centaurs', 'tried', 'generous', 'xr', 'clustocentric', 'dressler', 'shectman', 'isw', 'maximized', 'significances', 'avn', 'continent', 'telecommunications', 'nkutunse', 'accra', 'ghana', 'upgrades', 'backend', 'concludes', 'vpm', 'modulates', 'straddle', 'feedhorn', 'dielectric', 'prevents', 'fermion', 'optional', 'axial', 'rundm', 'greybody', 'hawking', 'supercosmos', 'scans', 'plates', 'poss', 'advocate', 'degrades', 'blends', 'allsky', 'contradictions', 'radioisotope', 'reanalyzed', 'regularity', 'twg', 'accomplished', 'milliarcsecond', 'milliarcseconds', 'comb', 'intriguing', 'prioritization', 'vibrotational', 'swg', 'pushes', 'protoplanets', 'horava', 'arnowitt', 'deser', 'misner', 'adm', 'language', 'eftcamb', 'express', 'notation', 'glpv', 'tachyonic', 'parametrize', 'elaborate', 'esas', 'calls', 'scheduling', 'promptly', 'spiraling', 'synergistic', 'collimator', 'supporters', 'refereed', 'msfc', 'office', 'john', 'hopkins', 'mpa', 'jhu', 'northwestern', 'osiris', 'gtc', 'fabry', 'perot', 'ghafas', 'absorpton', 'xxvi', 'xxv', 'ultrafast', 'prefers', 'hsc', 'strategic', 'dub', 'horus', 'arcs', 'fire', 'counterimage', 'decipher', 'programmable', 'gate', 'luci', 'starsense', 'flights', 'grba', 'narrowly', 'scorpius', 'hyades', 'fresh', 'camelopardalid', 'video', 'deployed', 'spain', 'spmn', 'zenithal', 'hourly', 'zhr', 'radiant', 'tensile', 'fragile', 'orionids', 'leonids', 'mineral', 'glued', 'unveil', 'heroes', 'zubko', 'bare', 'imu', 'mpu', 'house', 'payloads', 'allan', 'savitzky', 'golay', 'paid', 'involvement', 'geisler', 'declination', 'mediterranean', 'pks', 'occasionally', 'diamonds', 'meridian', 'eastward', 'radioisotopes', 'slrs', 'aluminum', 'thermo', 'degassing', 'slr', 'exoplanetary', 'lenslet', 'slicer', 'gratings', 'drs', 'quicklook', 'encounter', 'gliese', 'jahrei', 'multiples', 'quadruple', 'kh', 'pros', 'cons', 'ipn', 'evaporations', 'objets', 'purpuse', 'taxonomy', 'rationale', 'vote', 'xxix', 'honolulu', 'proliferation', 'cited', 'writing', 'uniting', 'passed', 'recommends', 'journal', 'editors', 'urged', 'join', 'forth', 'sesne', 'eject', 'prolong', 'distinguishes', 'ccsn', 'ccsne', 'parametrizations', 'smfs', 'sparcs', 'ultravista', 'conformity', 'conflicting', 'ids', 'miss', 'contemplate', 'southeast', 'border', 'overabundance', 'numerator', 'specified', 'smog', 'mips', 'supplement', 'confused', 'scatters', 'moris', 'inch', 'pyroxene', 'olivine', 'corundum', 'pyessence', 'bsd', 'license', 'bitbucket', 'wnb', 'corotating', 'phased', 'grayscale', 'grayscales', 'cir', 'kicks', 'pns', 'foe', 'shooter', 'sights', 'succession', 'mrk', 'comtpon', 'rbgs', 'tao', 'decrement', 'breddels', 'refinements', 'repeatability', 'simlt', 'geneva', 'copenhagen', 'bremsstrahlung', 'ionic', 'plasmon', 'ergosphere', 'grib', 'yu', 'pavlov', 'europhys', 'killing', 'genuinely', 'slicing', 'inclusions', 'tetrahedral', 'minimized', 'gjab', 'mve', 'cornerstone', 'pionier', 'thetaud', 'rsun', 'naco', 'baraffe', 'inflated', 'nrt', 'zoa', 'mrs', 'masx', 'uncharted', 'pps', 'yes', 'touchstone', 'bahcall', 'refuted', 'investigators', 'equilbrium', 'inappropriate', 'indefensible', 'photodesorb', 'settling', 'fek', 'screens', 'wh', 'thermodynamically', 'returns', 'reflares', 'depolarization', 'discriminated', 'megaparsec', 'disentangle', 'inferior', 'infc', 'supc', 'rx', 'gem', 'yz', 'cnc', 'churning', 'truly', 'breathing', 'superseding', 'perturber', 'responds', 'gasoline', 'spectrophotometric', 'spss', 'finished', 'rejected', 'sa', 'outgoing', 'outrunning', 'eigenmodes', 'disturbances', 'eigenmode', 'diverges', 'mpl', 'mj', 'rpl', 'rj', 'bloated', 'feh', 'receiving', 'densest', 'pl', 'me', 'harbour', 'document', 'uplink', 'commanding', 'actors', 'subsystem', 'interpreter', 'readable', 'df', 'spheroidals', 'hessj', 'trial', 'advective', 'tcaf', 'laor', 'bcg', 'hiflugcs', 'ibl', 'complimentary', 'inequality', 'bipartite', 'squeezing', 'varied', 'photonic', 'circuits', 'vibration', 'controllable', 'device', 'chips', 'chalcogenide', 'glasses', 'transparency', 'coupler', 'nicer', 'extp', 'discrimination', 'cbp', 'cbps', 'defies', 'revolving', 'rjup', 'syzygy', 'revolves', 'hcs', 'deficiency', 'hydrogenation', 'multitude', 'ars', 'mx', 'cancelled', 'splits', 'compresses', 'orphan', 'threads', 'injecting', 'bald', 'unobserved', 'panel', 'astrostatistics', 'pennsylvania', 'astrostatistical', 'frequentist', 'cataloging', 'surveying', 'demographic', 'drury', 'laplace', 'momenta', 'isotropise', 'completing', 'gyration', 'anymore', 'spend', 'burn', 'lacertae', 'totalling', 'nigl', 'counterjet', 'll', 'flavors', 'vlv', 'reradiation', 'lessened', 'summary', 'dims', 'leveraging', 'consortium', 'rpc', 'impedance', 'mip', 'coma', 'churyumov', 'gerasimenko', 'neck', 'cometocentric', 'collisonless', 'mstar', 'worth', 'multiband', 'monochromatic', 'semiquantitative', 'cmbr', 'temporarily', 'blocked', 'dim', 'eclipsed', 'meteoritics', 'esimal', 'releasing', 'splashes', 'lava', 'droplets', 'reconsidered', 'droplet', 'shutting', 'recondenses', 'graystarserver', 'gss', 'pedagogical', 'browser', 'annotated', 'predecessor', 'graystar', 'gs', 'ui', 'plain', 'java', 'communicates', 'html', 'asynchronous', 'request', 'canvas', 'linelistserver', 'byte', 'prepare', 'packaging', 'demonstrations', 'exercises', 'demand', 'responsive', 'reconnaissance', 'smu', 'ishort', 'openstars', 'pha', 'roque', 'muchachos', 'zahb', 'faintest', 'microphysical', 'treaty', 'province', 'mankind', 'ordinarily', 'appropriation', 'indeterminacies', 'eternal', 'nondisturbance', 'unvisited', 'protective', 'emplace', 'todays', 'raises', 'justice', 'safeguarding', 'ethical', 'policy', 'viewpoints', 'juno', 'snowglobes', 'register', 'henyey', 'hayashi', 'coronae', 'spent', 'synopsis', 'gregory', 'adams', 'davies', 'extremes', 'pcmds', 'unevolved', 'smears', 'ksb', 'overestimation', 'microquasar', 'gro', 'controversial', 'quasiperiodic', 'epicyclic', 'controversy', 'cured', 'abandon', 'gasp', 'webt', 'whipple', 'collaborations', 'psds', 'pink', 'obscurational', 'costs', 'eliminating', 'barotropic', 'bps', 'slender', 'darker', 'syntheses', 'degradation', 'internetwork', 'kilo', 'bp', 'amateur', 'nothing', 'mismatched', 'spreads', 'carinae', 'ccfs', 'ccf', 'bis', 'transmitting', 'cepheid', 'wesselink', 'manifestly', 'eom', 'flrw', 'graceful', 'erroneously', 'advocated', 'ivanova', 'epdes', 'tackle', 'srj', 'tolerances', 'hinders', 'overcomes', 'tenuous', 'intimately', 'ect', 'altering', 'extensional', 'tectonic', 'bedrock', 'moore', 'conductivities', 'freezes', 'thicker', 'compressional', 'diluted', 'equalize', 'versatility', 'interpolators', 'sinc', 'kernels', 'polytrope', 'equalizing', 'rarefacted', 'harm', 'overload', 'conserves', 'impor', 'tant', 'hipass', 'seamless', 'vf', 'sdr', 'ufr', 'interchanging', 'elais', 'collapsar', 'want', 'lucy', 'adheres', 'kirchhoff', 'uss', 'moircs', 'irrespective', 'raised', 'tdes', 'reprocess', 'ionize', 'strikingly', 'methanol', 'erases', 'borrowed', 'reform', 'regrowth', 'longevity', 'acted', 'dwarves', 'mjd', 'segment', 'screened', 'rips', 'poised', 'verge', 'attainment', 'collisionality', 'equiv', 'vec', 'lengthscale', 'conductivity', 'reject', 'heliosphere', 'cycling', 'mesosphere', 'thermosphere', 'mlt', 'sinks', 'hor', 'retains', 'inert', 'microbeam', 'spreading', 'polarised', 'dissimilar', 'notches', 'bifurcated', 'zigzag', 'wiggle', 'tdrg', 'speca', 'bent', 'farther', 'waveguide', 'displacements', 'seventeen', 'ers', 'uvudf', 'igl', 'zodiacal', 'cob', 'nwm', 'capacity', 'regolith', 'geophysical', 'posses', 'geophysics', 'hypothesised', 'concise', 'geostationary', 'swpc', 'neighbors', 'extracts', 'calet', 'manages', 'deforming', 'transversal', 'udgs', 'dragonfly', 'deprojected', 'fluent', 'detachment', 'cwd', 'detach', 'harassment', 'strangulation', 'starvation', 'downsizing', 'hypercharge', 'mediates', 'monojet', 'coannihilation', 'primordially', 'orderly', 'confronted', 'migrations', 'lively', 'lijiang', 'nls', 'astrobj', 'favoured', 'descreases', 'miri', 'uncalibrated', 'accessory', 'hitomi', 'astro', 'athena', 'boxy', 'peanut', 'eros', 'dissipationless', 'redetermination', 'cobold', 'nltetd', 'inelastic', 'drawin', 'centripetal', 'asphericity', 'geostrophic', 'remotely', 'serpens', 'multifluid', 'centrifugal', 'interchange', 'displayed', 'corotational', 'fac', 'equatorward', 'exited', 'impeded', 'coarse', 'localisations', 'localisation', 'skymap', 'kijak', 'astron', 'soc', 'antarctic', 'anita', 'sponsored', 'stratospheric', 'hmxb', 'justify', 'multinest', 'sporadic', 'grun', 'altitudes', 'magnetohydrodynamical', 'kesteven', 'aquila', 'submergence', 'hypercritical', 'kamiokande', 'etnos', 'barycentric', 'plutonian', 'perihelia', 'incarnation', 'apsidal', 'aphelion', 'manners', 'forbush', 'sins', 'zc', 'sinf', 'compaction', 'dichotomy', 'aids', 'snowball', 'scan', 'preexisting', 'expelled', 'slows', 'plough', 'meets', 'decelerating', 'unsteady', 'drill', 'symmetrical', 'attending', 'giada', 'cosima', 'fluffy', 'porosities', 'schulz', 'rotundi', 'fulle', 'retrieval', 'extrapolations', 'inadequate', 'agglomerates', 'mie', 'milgromian', 'lsnd', 'miniboone', 'nonstandard', 'nsi', 'crb', 'mimac', 'pixelated', 'micromegas', 'modane', 'comimac', 'thereof', 'darkside', 'stalling', 'owe', 'owes', 'petts', 'arrive', 'menc', 'researchers', 'frictionless', 'depicted', 'lg', 'latte', 'adapts', 'resolves', 'respected', 'arkani', 'hamed', 'notion', 'page', 'flocculent', 'debiased', 'categorised', 'demographics', 'mrxmhd', 'woltjer', 'barriers', 'hall', 'mrxhmhd', 'beltrami', 'segregated', 'comparably', 'sharply', 'inverting', 'un', 'emmision', 'counteract', 'ellipse', 'persistence', 'microwaves', 'tommasin', 'lagn', 'lsf', 'cleared', 'attrition', 'destructive', 'unstirred', 'aside', 'stirring', 'doubtless', 'punitive', 'grinding', 'activated', 'panstarrs', 'hwhm', 'westward', 'privileged', 'reachable', 'mose', 'performances', 'mesoscale', 'meso', 'atmospherical', 'astroclimatic', 'armazones', 'nightly', 'graham', 'lbt', 'alta', 'cite', 'wfao', 'ot', 'achievement', 'tells', 'summation', 'classically', 'conjectured', 'johnsons', 'pico', 'dos', 'dias', 'wavenumbers', 'noema', 'sunquakes', 'sunquake', 'semiempirical', 'fal', 'ponderomotive', 'immersion', 'igrins', 'rovibrational', 'annulus', 'bandhead', 'enjoyed', 'renaissance', 'roadblocks', 'gattini', 'infeasible', 'commercially', 'pave', 'turbo', 'eureka', 'ellesmere', 'vhs', 'macrostructure', 'specularly', 'ramp', 'microstructure', 'gyrating', 'coplanarity', 'foot', 'recollapse', 'spacelike', 'theorems', 'forbidding', 'caveat', 'identity', 'grmhd', 'ark', 'degr', 'comptonizing', 'heitler', 'matthews', 'denoted', 'phenomenologically', 'uctuations', 'accumulates', 'effec', 'tively', 'chirping', 'mbta', 'latency', 'outset', 'bkp', 'bk', 'chirality', 'unconstrained', 'neat', 'fermionic', 'portal', 'psi', 'dagger', 'simplify', 'megacam', 'blanco', 'reexamination', 'aoli', 'modularization', 'cgrabs', 'evn', 'intention', 'xuv', 'sensitively', 'loses', 'menon', 'thalappilil', 'fastr', 'champion', 'excessively', 'hardness', 'evacuation', 'backwards', 'galacticon', 'collinder', 'melotte', 'swan', 'toomre', 'fuel', 'kavic', 'compactification', 'reradiated', 'sculpting', 'locking', 'demography', 'popularly', 'participate', 'asset', 'angstroms', 'constructing', 'matlas', 'agent', 'avenue', 'asteroseimology', 'quintessential', 'disclose', 'signficantly', 'reductions', 'labbe', 'ssfr', 'blueshifts', 'szekeres', 'qss', 'axially', 'exemplary', 'imshennik', 'merges', 'supplemented', 'popov', 'turolla', 'radiates', 'isotropically', 'acos', 'subtends', 'reprocesses', 'passages', 'reformulation', 'monomial', 'blastpol', 'flew', 'tng', 'inductance', 'mkids', 'effectiveness', 'mkid', 'impostor', 'ejecting', 'integro', 'traceless', 'enter', 'occurence', 'gmm', 'maximization', 'cgro', 'batse', 'trimodal', 'superficial', 'otto', 'struve', 'lehoucq', 'egret', 'xline', 'liv', 'thoroughly', 'recognizing', 'unanticipated', 'hampered', 'bayeswave', 'rejecting', 'assigning', 'curiously', 'seesaw', 'leptogenesis', 'sphaleron', 'thermalized', 'cancellations', 'nonisotropic', 'intercloud', 'category', 'archeology', 'persisted', 'conflicts', 'mcintosh', 'microquasars', 'lifting', 'llagns', 'lazarian', 'vishiniac', 'suppose', 'schr', 'dinger', 'quantized', 'mamajek', 'otelo', 'preparatory', 'deblending', 'convolving', 'tfs', 'ophiiuchi', 'puppis', 'ceased', 'lut', 'bibliography', 'antlia', 'cepheus', 'resolvable', 'emsto', 'genesis', 'emstos', 'mstos', 'novikov', 'nt', 'arrested', 'mad', 'mads', 'achieves', 'breakthrough', 'optimised', 'stellocentric', 'imprints', 'revolutionise', 'drivers', 'tradeoffs', 'examinations', 'arbitrariness', 'subjective', 'lyra', 'exponents', 'xrs', 'proba', 'bellini', 'straggler', 'bsss', 'bianchini', 'msto', 'resorting', 'wheeler', 'witt', 'spatia', 'supergranular', 'continually', 'varieties', 'inspire', 'unexplained', 'ilc', 'bootis', 'cesam', 'graco', 'brunt', 'va', 'fulfilling', 'revision', 'asteroseismological', 'definitively', 'percentages', 'shellular', 'boussinesq', 'eigenvalue', 'obey', 'destabilized', 'lets', 'baroclinicity', 'smoother', 'reassuringly', 'cpu', 'multiphysics', 'intractible', 'schematic', 'fuentes', 'masip', 'mknots', 'sknot', 'irregulars', 'amor', 'kormendy', 'bender', 'bcd', 'wcdm', 'wacdm', 'streamer', 'euvi', 'footpoint', 'cor', 'ssi', 'steamer', 'cavities', 'radmc', 'ldisk', 'lstar', 'cieza', 'bn', 'ohc', 'gyrosynchrotron', 'proplyds', 'severals', 'rubble', 'piles', 'cohesion', 'seismically', 'shaken', 'sorting', 'nut', 'shaking', 'rectangular', 'unsorted', 'vigorous', 'arfhd', 'cak', 'enforcing', 'colatitude', 'xadm', 'nonlocality', 'simulates', 'recourse', 'attraction', 'occupied', 'raphson', 'attractions', 'influential', 'mearth', 'independence', 'occulting', 'mineralogy', 'interpretive', 'rendezvous', 'helped', 'chemistries', 'achondrites', 'mafic', 'outlines', 'excursion', 'mp', 'lyth', 'koi', 'sophie', 'observatoire', 'haute', 'provence', 'discard', 'regeneration', 'purported', 'brevity', 'mitchell', 'harlan', 'blackhole', 'duality', 'cddr', 'physic', 'mq', 'latetype', 'sixteen', 'fillout', 'literatures', 'observedcalculate', 'defect', 'civilizations', 'danger', 'destroy', 'sweet', 'intelligence', 'seti', 'drake', 'housing', 'communicating', 'civilization', 'spawned', 'sustaining', 'outposts', 'superpositions', 'spaxel', 'hmyso', 'receding', 'arcuate', 'substantiate', 'astonishingly', 'bifurcation', 'mis', 'colleagues', 'superfluid', 'ginzburg', 'zharkov', 'ether', 'cooper', 'spectrometers', 'woh', 'monoceros', 'uchii', 'trigonometric', 'lirg', 'looks', 'breakdown', 'kennicutt', 'unresolvable', 'encodes', 'obstruct', 'efts', 'calculable', 'dangerous', 'finiteness', 'profoundly', 'illuminating', 'forefront', 'gyrokinetic', 'counterpropagating', 'conceptually', 'nonlinearly', 'turbulently', 'recalibrate', 'fis', 'tir', 'heres', 'obtains', 'actinide', 'cosmo', 'chronometer', 'waiting', 'kratz', 'farouqi', 'resilient', 'tentatively', 'reuven', 'ramaty', 'rhessi', 'tgfs', 'lightning', 'wwlln', 'vlf', 'sferics', 'duke', 'tgf', 'multipeak', 'leader', 'sons', 'prolonged', 'photodissociate', 'prodimo', 'wifes', 'anu', 'mappings', 'sna', 'revived', 'row', 'seats', 'megaton', 'roap', 'superwasp', 'sreu', 'wang', 'dai', 'helpful', 'fla', 'bestz', 'resists', 'saha', 'jog', 'scalelengths', 'sech', 'crucially', 'scalelength', 'scaleheight', 'contour', 'unblinding', 'seyferts', 'sauron', 'isovelocity', 'contours', 'humps', 'impressive', 'sbs', 'hollows', 'starbugs', 'miniaturised', 'multiplex', 'starbug', 'configure', 'taipan', 'polychromatic', 'gmt', 'aao', 'allocation', 'routing', 'galileons', 'triatomic', 'rot', 'kin', 'zytkow', 'zo', 'hv', 'enigmatic', 'candidacy', 'contradictory', 'seeks', 'downfalls', 'multiconjugate', 'maory', 'lgs', 'idl', 'libraries', 'cuda', 'recall', 'finest', 'deltat', 'tcmb', 'deltav', 'pop', 'np', 'optimistically', 'gse', 'gmf', 'fig', 'macro', 'broaden', 'usndp', 'exfor', 'endf', 'ensdf', 'depository', 'tungsten', 'destined', 'aerodynamically', 'argues', 'pump', 'upwardly', 'travels', 'lifts', 'offspring', 'oscillate', 'fibrils', 'tno', 'nickname', 'niku', 'kv', 'drac', 'pathway', 'octet', 'protoneutron', 'stiffen', 'questioned', 'harmful', 'dna', 'living', 'underwater', 'photoprotective', 'biofluorescence', 'safer', 'corals', 'biota', 'biosignature', 'hzs', 'fluorescing', 'coral', 'proteins', 'vegetation', 'minerals', 'texas', 'commerce', 'college', 'sixiii', 'views', 'dla', 'zn', 'corr', 'photoexcited', 'dissect', 'gleyzes', 'langlois', 'piazza', 'vernizzi', 'ostrogradski', 'laplacian', 'martin', 'gsmf', 'parametrisation', 'absolutely', 'superflares', 'biggest', 'superflare', 'labr', 'ep', 'serving', 'introductory', 'milestones', 'bus', 'mast', 'flexing', 'exits', 'earths', 'extendable', 'masts', 'heracles', 'kingfish', 'lggs', 'republish', 'synergies', 'unaccessible', 'legitimate', 'concern', 'fate', 'birthed', 'unshocked', 'upholds', 'detonations', 'phat', 'attain', 'repeaters', 'nirc', 'pmcs', 'conclusively', 'eighth', 'dh', 'totality', 'roxs', 'enthusiastic', 'familiarize', 'malarg', 'hands', 'masterclass', 'german', 'outreach', 'netzwerk', 'teilchenwelt', 'bs', 'escapes', 'crossmatching', 'gi', 'ppd', 'bracketing', 'perturbing', 'ppds', 'heartbeat', 'detrended', 'ultrafaint', 'reticulum', 'interlopers', 'blasts', 'observes', 'bw', 'thz', 'channelizing', 'correlator', 'bits', 'reorganize', 'terabit', 'digitizing', 'transceivers', 'serial', 'circuit', 'gbit', 'ethernet', 'counters', 'electromagnetically', 'permeated', 'collaborate', 'collaborative', 'disparities', 'cheft', 'unfortunately', 'obscures', 'pertubative', 'verifiable', 'improvable', 'practitioners', 'refute', 'kurkela', 'piece', 'demonstrative', 'intervening', 'cnm', 'dithering', 'archaeological', 'paving', 'transmitter', 'eirp', 'transmitters', 'extraordinarily', 'penetrated', 'reexamined', 'luck', 'behaviours', 'masked', 'unmasked', 'iteratively', 'mask', 'harrison', 'restoration', 'naive', 'nscs', 'nsc', 'ablate', 'compliment', 'mandatory', 'coronagraphs', 'diffracted', 'thd', 'defocus', 'aged', 'ambiguity', 'cospatial', 'vna', 'merit', 'equality', 'manufacturer', 'airline', 'nonsingular', 'squashing', 'tunneled', 'penetrarting', 'showering', 'clumpiness', 'ballistic'])"
      ]
     },
     "execution_count": 143,
     "metadata": {},
     "output_type": "execute_result"
    }
   ],
   "source": [
    "count_vect.vocabulary_.keys()"
   ]
  },
  {
   "cell_type": "code",
   "execution_count": 144,
   "metadata": {},
   "outputs": [
    {
     "data": {
      "text/plain": [
       "9822"
      ]
     },
     "execution_count": 144,
     "metadata": {},
     "output_type": "execute_result"
    }
   ],
   "source": [
    "count_vect.vocabulary_.get(u'spiral')"
   ]
  },
  {
   "cell_type": "code",
   "execution_count": 145,
   "metadata": {},
   "outputs": [
    {
     "data": {
      "text/plain": [
       "(1475, 11684)"
      ]
     },
     "execution_count": 145,
     "metadata": {},
     "output_type": "execute_result"
    }
   ],
   "source": [
    "# compute the term frequency\n",
    "from sklearn.feature_extraction.text import TfidfTransformer\n",
    "tf_transformer = TfidfTransformer(use_idf=False).fit(X_train_counts)\n",
    "X_train_tf = tf_transformer.transform(X_train_counts)\n",
    "X_train_tf.shape\n",
    "\n",
    "# alternative\n",
    "tfidf_transformer = TfidfTransformer()\n",
    "X_train_tfidf = tfidf_transformer.fit_transform(X_train_counts)\n",
    "X_train_tfidf.shape"
   ]
  },
  {
   "cell_type": "code",
   "execution_count": 146,
   "metadata": {
    "collapsed": true
   },
   "outputs": [],
   "source": [
    "from sklearn.naive_bayes import MultinomialNB\n",
    "clf = MultinomialNB().fit(X_train_tfidf, training_label)"
   ]
  },
  {
   "cell_type": "code",
   "execution_count": 147,
   "metadata": {},
   "outputs": [
    {
     "name": "stdout",
     "output_type": "stream",
     "text": [
      "'spiral density wave' => astro-ph.GA\n",
      "'protoplanetary disk' => astro-ph.SR\n",
      "'galactic dynamics' => astro-ph.GA\n",
      "'theory' => astro-ph.CO\n"
     ]
    }
   ],
   "source": [
    "docs_new = ['spiral density wave', 'protoplanetary disk', 'galactic dynamics', 'theory']\n",
    "X_new_counts = count_vect.transform(docs_new)\n",
    "X_new_tfidf = tfidf_transformer.transform(X_new_counts)\n",
    "\n",
    "predicted = clf.predict(X_new_tfidf)\n",
    "\n",
    "for doc, category in zip(docs_new, predicted):\n",
    "    print('%r => %s' % (doc, keylist[category]))"
   ]
  },
  {
   "cell_type": "code",
   "execution_count": 148,
   "metadata": {
    "collapsed": true
   },
   "outputs": [],
   "source": [
    "# building a pipeline\n",
    "from sklearn.pipeline import Pipeline\n",
    "text_clf = Pipeline([('vect', CountVectorizer()),\n",
    "    ('tfidf', TfidfTransformer()),\n",
    "    ('clf', MultinomialNB()),\n",
    "])"
   ]
  },
  {
   "cell_type": "code",
   "execution_count": 149,
   "metadata": {},
   "outputs": [
    {
     "data": {
      "text/plain": [
       "Pipeline(memory=None,\n",
       "     steps=[('vect', CountVectorizer(analyzer='word', binary=False, decode_error='strict',\n",
       "        dtype=<class 'numpy.int64'>, encoding='utf-8', input='content',\n",
       "        lowercase=True, max_df=1.0, max_features=None, min_df=1,\n",
       "        ngram_range=(1, 1), preprocessor=None, stop_words=None,\n",
       "        strip...inear_tf=False, use_idf=True)), ('clf', MultinomialNB(alpha=1.0, class_prior=None, fit_prior=True))])"
      ]
     },
     "execution_count": 149,
     "metadata": {},
     "output_type": "execute_result"
    }
   ],
   "source": [
    "text_clf.fit(training_data, training_label)"
   ]
  },
  {
   "cell_type": "code",
   "execution_count": 150,
   "metadata": {},
   "outputs": [
    {
     "data": {
      "text/plain": [
       "0.57608695652173914"
      ]
     },
     "execution_count": 150,
     "metadata": {},
     "output_type": "execute_result"
    }
   ],
   "source": [
    "import numpy as np\n",
    "docs_test = testing_data\n",
    "predicted = text_clf.predict(docs_test)\n",
    "np.mean(predicted == testing_label)   "
   ]
  },
  {
   "cell_type": "code",
   "execution_count": 151,
   "metadata": {},
   "outputs": [
    {
     "name": "stdout",
     "output_type": "stream",
     "text": [
      "             precision    recall  f1-score   support\n",
      "\n",
      "astro-ph.GA       0.41      0.99      0.58        88\n",
      "astro-ph.SR       0.86      0.47      0.61        78\n",
      "astro-ph.IM       0.00      0.00      0.00        36\n",
      "astro-ph.EP       1.00      0.06      0.11        34\n",
      "astro-ph.HE       0.75      0.69      0.72        74\n",
      "astro-ph.CO       0.80      0.60      0.69        58\n",
      "\n",
      "avg / total       0.65      0.58      0.53       368\n",
      "\n"
     ]
    },
    {
     "name": "stderr",
     "output_type": "stream",
     "text": [
      "/home/wklee/anaconda3/lib/python3.6/site-packages/sklearn/metrics/classification.py:1135: UndefinedMetricWarning: Precision and F-score are ill-defined and being set to 0.0 in labels with no predicted samples.\n",
      "  'precision', 'predicted', average, warn_for)\n"
     ]
    }
   ],
   "source": [
    "from sklearn import metrics\n",
    "print(metrics.classification_report(testing_label, predicted, target_names=keylist))"
   ]
  },
  {
   "cell_type": "code",
   "execution_count": 152,
   "metadata": {},
   "outputs": [
    {
     "data": {
      "text/plain": [
       "array([[87,  0,  0,  0,  1,  0],\n",
       "       [33, 37,  0,  0,  7,  1],\n",
       "       [25,  1,  0,  0,  8,  2],\n",
       "       [29,  2,  0,  2,  0,  1],\n",
       "       [15,  3,  0,  0, 51,  5],\n",
       "       [22,  0,  0,  0,  1, 35]])"
      ]
     },
     "execution_count": 152,
     "metadata": {},
     "output_type": "execute_result"
    }
   ],
   "source": [
    "metrics.confusion_matrix(testing_label, predicted)"
   ]
  },
  {
   "cell_type": "code",
   "execution_count": 153,
   "metadata": {
    "collapsed": true
   },
   "outputs": [],
   "source": [
    "# GRID SEARCH\n",
    "from sklearn.model_selection import GridSearchCV\n",
    "parameters = {'vect__ngram_range': [(1, 1), (1, 2)],\n",
    "              'tfidf__use_idf': (True, False),\n",
    "              'clf__alpha': (1e-2, 1e-3),\n",
    "}"
   ]
  },
  {
   "cell_type": "code",
   "execution_count": 154,
   "metadata": {
    "collapsed": true
   },
   "outputs": [],
   "source": [
    "gs_clf = GridSearchCV(text_clf, parameters, n_jobs=-1)"
   ]
  },
  {
   "cell_type": "code",
   "execution_count": 155,
   "metadata": {
    "collapsed": true
   },
   "outputs": [],
   "source": [
    "gs_clf = gs_clf.fit(training_data[:400], training_label[:400])"
   ]
  },
  {
   "cell_type": "code",
   "execution_count": 160,
   "metadata": {},
   "outputs": [
    {
     "data": {
      "text/plain": [
       "'astro-ph.GA'"
      ]
     },
     "execution_count": 160,
     "metadata": {},
     "output_type": "execute_result"
    }
   ],
   "source": [
    "target_name[gs_clf.predict(['spiral density wave theory'])[0]]"
   ]
  },
  {
   "cell_type": "code",
   "execution_count": 161,
   "metadata": {},
   "outputs": [
    {
     "data": {
      "text/plain": [
       "0.6925"
      ]
     },
     "execution_count": 161,
     "metadata": {},
     "output_type": "execute_result"
    }
   ],
   "source": [
    "gs_clf.best_score_"
   ]
  },
  {
   "cell_type": "code",
   "execution_count": 162,
   "metadata": {},
   "outputs": [
    {
     "name": "stdout",
     "output_type": "stream",
     "text": [
      "clf__alpha: 0.01\n",
      "tfidf__use_idf: True\n",
      "vect__ngram_range: (1, 1)\n"
     ]
    }
   ],
   "source": [
    "for param_name in sorted(parameters.keys()):\n",
    "    print(\"%s: %r\" % (param_name, gs_clf.best_params_[param_name]))"
   ]
  },
  {
   "cell_type": "code",
   "execution_count": 212,
   "metadata": {
    "collapsed": true
   },
   "outputs": [],
   "source": [
    "from sklearn.ensemble import RandomForestClassifier"
   ]
  },
  {
   "cell_type": "code",
   "execution_count": 213,
   "metadata": {
    "collapsed": true
   },
   "outputs": [],
   "source": [
    "forest_clf = RandomForestClassifier(random_state=42)"
   ]
  },
  {
   "cell_type": "code",
   "execution_count": 214,
   "metadata": {},
   "outputs": [],
   "source": [
    "from sklearn.feature_extraction.text import CountVectorizer\n",
    "count_vect = CountVectorizer()\n",
    "X_train_counts = count_vect.fit_transform(training_data)\n",
    "#X_train_counts.shape\n",
    "from sklearn.feature_extraction.text import TfidfTransformer\n",
    "tfidf_transformer = TfidfTransformer()\n",
    "X_train_tfidf = tfidf_transformer.fit_transform(X_train_counts)"
   ]
  },
  {
   "cell_type": "code",
   "execution_count": 215,
   "metadata": {},
   "outputs": [
    {
     "data": {
      "text/plain": [
       "RandomForestClassifier(bootstrap=True, class_weight=None, criterion='gini',\n",
       "            max_depth=None, max_features='auto', max_leaf_nodes=None,\n",
       "            min_impurity_decrease=0.0, min_impurity_split=None,\n",
       "            min_samples_leaf=1, min_samples_split=2,\n",
       "            min_weight_fraction_leaf=0.0, n_estimators=10, n_jobs=1,\n",
       "            oob_score=False, random_state=42, verbose=0, warm_start=False)"
      ]
     },
     "execution_count": 215,
     "metadata": {},
     "output_type": "execute_result"
    }
   ],
   "source": [
    "#forest_clf.fit(X_train_counts, training_label)\n",
    "forest_clf.fit(X_train_tfidf, training_label)"
   ]
  },
  {
   "cell_type": "code",
   "execution_count": 216,
   "metadata": {},
   "outputs": [
    {
     "name": "stdout",
     "output_type": "stream",
     "text": [
      "'spiral density wave' => astro-ph.SR\n",
      "'protoplanetary disk' => astro-ph.CO\n",
      "'galactic dynamics' => astro-ph.GA\n",
      "'theory' => astro-ph.CO\n"
     ]
    }
   ],
   "source": [
    "docs_new = ['spiral density wave', 'protoplanetary disk', 'galactic dynamics', 'theory']\n",
    "X_new_counts = count_vect.transform(docs_new)\n",
    "X_new_tfidf = tfidf_transformer.transform(X_new_counts)\n",
    "\n",
    "predicted = forest_clf.predict(X_new_tfidf)\n",
    "\n",
    "for doc, category in zip(docs_new, predicted):\n",
    "    print('%r => %s' % (doc, keylist[category]))"
   ]
  },
  {
   "cell_type": "code",
   "execution_count": 217,
   "metadata": {
    "collapsed": true
   },
   "outputs": [],
   "source": [
    "# building a pipeline\n",
    "from sklearn.pipeline import Pipeline\n",
    "text_forest_clf = Pipeline([('vect', CountVectorizer()),\n",
    "    ('tfidf', TfidfTransformer()),\n",
    "    ('forest_clf', RandomForestClassifier()),\n",
    "])"
   ]
  },
  {
   "cell_type": "code",
   "execution_count": 218,
   "metadata": {},
   "outputs": [
    {
     "data": {
      "text/plain": [
       "Pipeline(memory=None,\n",
       "     steps=[('vect', CountVectorizer(analyzer='word', binary=False, decode_error='strict',\n",
       "        dtype=<class 'numpy.int64'>, encoding='utf-8', input='content',\n",
       "        lowercase=True, max_df=1.0, max_features=None, min_df=1,\n",
       "        ngram_range=(1, 1), preprocessor=None, stop_words=None,\n",
       "        strip...n_jobs=1,\n",
       "            oob_score=False, random_state=None, verbose=0,\n",
       "            warm_start=False))])"
      ]
     },
     "execution_count": 218,
     "metadata": {},
     "output_type": "execute_result"
    }
   ],
   "source": [
    "text_forest_clf.fit(training_data, training_label)"
   ]
  },
  {
   "cell_type": "code",
   "execution_count": 219,
   "metadata": {},
   "outputs": [
    {
     "data": {
      "text/plain": [
       "'astro-ph.HE'"
      ]
     },
     "execution_count": 219,
     "metadata": {},
     "output_type": "execute_result"
    }
   ],
   "source": [
    "target_name[text_forest_clf.predict(['spiral density wave'])[0]]"
   ]
  },
  {
   "cell_type": "code",
   "execution_count": 205,
   "metadata": {
    "collapsed": true
   },
   "outputs": [],
   "source": [
    "from sklearn.linear_model import SGDClassifier\n",
    "from sklearn.feature_extraction.text import CountVectorizer\n",
    "from sklearn.feature_extraction.text import TfidfTransformer\n",
    "\n",
    "text_sgd_clf = Pipeline([('vect', CountVectorizer()),\n",
    "    ('tfidf', TfidfTransformer()),\n",
    "    ('forest_clf', SGDClassifier(tol=1e-3)),\n",
    "])"
   ]
  },
  {
   "cell_type": "code",
   "execution_count": 206,
   "metadata": {},
   "outputs": [
    {
     "data": {
      "text/plain": [
       "Pipeline(memory=None,\n",
       "     steps=[('vect', CountVectorizer(analyzer='word', binary=False, decode_error='strict',\n",
       "        dtype=<class 'numpy.int64'>, encoding='utf-8', input='content',\n",
       "        lowercase=True, max_df=1.0, max_features=None, min_df=1,\n",
       "        ngram_range=(1, 1), preprocessor=None, stop_words=None,\n",
       "        strip...'l2', power_t=0.5, random_state=None,\n",
       "       shuffle=True, tol=0.001, verbose=0, warm_start=False))])"
      ]
     },
     "execution_count": 206,
     "metadata": {},
     "output_type": "execute_result"
    }
   ],
   "source": [
    "text_sgd_clf.fit(training_data, training_label)"
   ]
  },
  {
   "cell_type": "code",
   "execution_count": 207,
   "metadata": {},
   "outputs": [
    {
     "data": {
      "text/plain": [
       "'astro-ph.HE'"
      ]
     },
     "execution_count": 207,
     "metadata": {},
     "output_type": "execute_result"
    }
   ],
   "source": [
    "target_name[text_sgd_clf.predict(['gravitational wave'])[0]]"
   ]
  },
  {
   "cell_type": "code",
   "execution_count": 208,
   "metadata": {},
   "outputs": [
    {
     "data": {
      "text/plain": [
       "0.76630434782608692"
      ]
     },
     "execution_count": 208,
     "metadata": {},
     "output_type": "execute_result"
    }
   ],
   "source": [
    "predicted = text_sgd_clf.predict(testing_data)\n",
    "np.mean(predicted == testing_label)   "
   ]
  },
  {
   "cell_type": "code",
   "execution_count": 209,
   "metadata": {},
   "outputs": [
    {
     "data": {
      "text/plain": [
       "array([[78,  2,  0,  1,  3,  4],\n",
       "       [ 7, 57,  1,  1, 10,  2],\n",
       "       [ 2,  3, 22,  1,  6,  2],\n",
       "       [ 3,  4,  0, 27,  0,  0],\n",
       "       [ 4,  5,  1,  1, 54,  9],\n",
       "       [ 8,  1,  2,  0,  3, 44]])"
      ]
     },
     "execution_count": 209,
     "metadata": {},
     "output_type": "execute_result"
    }
   ],
   "source": [
    "metrics.confusion_matrix(testing_label, predicted)"
   ]
  },
  {
   "cell_type": "code",
   "execution_count": 210,
   "metadata": {},
   "outputs": [
    {
     "data": {
      "text/plain": [
       "array([[ 0.00487084, -0.80824136, -1.28927103, -1.28194684, -0.73309226,\n",
       "        -1.12089483]])"
      ]
     },
     "execution_count": 210,
     "metadata": {},
     "output_type": "execute_result"
    }
   ],
   "source": [
    "text_sgd_clf.decision_function(['spiral density wave'])"
   ]
  },
  {
   "cell_type": "code",
   "execution_count": 221,
   "metadata": {},
   "outputs": [
    {
     "data": {
      "text/plain": [
       "array([[ 0.1,  0.1,  0.2,  0. ,  0.4,  0.2]])"
      ]
     },
     "execution_count": 221,
     "metadata": {},
     "output_type": "execute_result"
    }
   ],
   "source": [
    "text_forest_clf.predict_proba(['gravitational wave'])"
   ]
  },
  {
   "cell_type": "code",
   "execution_count": 222,
   "metadata": {},
   "outputs": [
    {
     "data": {
      "text/plain": [
       "['astro-ph.GA',\n",
       " 'astro-ph.SR',\n",
       " 'astro-ph.IM',\n",
       " 'astro-ph.EP',\n",
       " 'astro-ph.HE',\n",
       " 'astro-ph.CO']"
      ]
     },
     "execution_count": 222,
     "metadata": {},
     "output_type": "execute_result"
    }
   ],
   "source": [
    "target_name"
   ]
  },
  {
   "cell_type": "code",
   "execution_count": 224,
   "metadata": {},
   "outputs": [],
   "source": [
    "myabstract = \"Grand-design spiral structure has been observed by ALMA in protoplanetary disks, such as Elias 2-27. We investigate the possibility of the spirals being  unstable global normal modes described by the spiral density wave theory in self-gravitating disks, which was originally developed in the context of disk galaxies. The instability corresponds to the two-armed bisymmetric spirals is studied, which is caused by the WASER mechanism that involves the over-reflection at the corotation radius. The spiral normal modes differs from the dynamical spiral structures occur in a gravitationally-unstable disk. In particular, we study the criteria of these spirals in terms of the radial profile of the Toomre's $Q$ parameter. \""
   ]
  },
  {
   "cell_type": "code",
   "execution_count": 230,
   "metadata": {},
   "outputs": [
    {
     "data": {
      "text/plain": [
       "array([3, 3])"
      ]
     },
     "execution_count": 230,
     "metadata": {},
     "output_type": "execute_result"
    }
   ],
   "source": [
    "text_sgd_clf.predict([myabstract, 'proto-planetary'])"
   ]
  },
  {
   "cell_type": "code",
   "execution_count": null,
   "metadata": {
    "collapsed": true
   },
   "outputs": [],
   "source": []
  }
 ],
 "metadata": {
  "kernelspec": {
   "display_name": "Python 3",
   "language": "python",
   "name": "python3"
  },
  "language_info": {
   "codemirror_mode": {
    "name": "ipython",
    "version": 3
   },
   "file_extension": ".py",
   "mimetype": "text/x-python",
   "name": "python",
   "nbconvert_exporter": "python",
   "pygments_lexer": "ipython3",
   "version": "3.6.3"
  }
 },
 "nbformat": 4,
 "nbformat_minor": 2
}
