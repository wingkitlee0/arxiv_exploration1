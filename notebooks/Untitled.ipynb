{
 "cells": [
  {
   "cell_type": "code",
   "execution_count": 8,
   "metadata": {
    "collapsed": true
   },
   "outputs": [],
   "source": [
    "from urllib.request import urlopen\n",
    "import xml.etree.ElementTree as ET"
   ]
  },
  {
   "cell_type": "code",
   "execution_count": 26,
   "metadata": {
    "collapsed": true
   },
   "outputs": [],
   "source": [
    "ARXIV_RSS_URL = \"http://arxiv.org/rss/\"\n",
    "cat = \"math.QA\"\n",
    "\n",
    "url = ARXIV_RSS_URL + cat + \"?version=2.0\""
   ]
  },
  {
   "cell_type": "code",
   "execution_count": 21,
   "metadata": {},
   "outputs": [],
   "source": [
    "rss = urlopen(url)"
   ]
  },
  {
   "cell_type": "code",
   "execution_count": 22,
   "metadata": {},
   "outputs": [
    {
     "data": {
      "text/plain": [
       "'http://arxiv.org/rss/math.QA?version=2.0'"
      ]
     },
     "execution_count": 22,
     "metadata": {},
     "output_type": "execute_result"
    }
   ],
   "source": [
    "url"
   ]
  },
  {
   "cell_type": "code",
   "execution_count": 23,
   "metadata": {
    "collapsed": true
   },
   "outputs": [],
   "source": [
    "xml = rss.read()"
   ]
  },
  {
   "cell_type": "code",
   "execution_count": 24,
   "metadata": {},
   "outputs": [],
   "source": [
    "root = ET.fromstring(xml)"
   ]
  },
  {
   "cell_type": "code",
   "execution_count": 32,
   "metadata": {},
   "outputs": [
    {
     "name": "stdout",
     "output_type": "stream",
     "text": [
      "Higher level Zhu's algebras and modules for vertex operator algebras.\n",
      "Classification of screening systems for lattice vertex operator algebras.\n",
      "Compact quantum groups with representations of bounded degree.\n",
      "Stable Formality Quasi-isomorphisms for Hochschild Cochains.\n",
      "Polynomial growth of discrete quantum groups, topological dimension of the dual and *-regularity of the Fourier algebra.\n",
      "Solutions modulo $p$ of Gauss-Manin differential equations for multidimensional hypergeometric integrals and associated Bethe ansatz.\n"
     ]
    }
   ],
   "source": [
    "#<item>\n",
    "#<title>Revealing black holes with Gaia. (arXiv:1710.04657v1 [astro-ph.SR])</title>\n",
    "#<link>http://arxiv.org/abs/1710.04657</link>\n",
    "#<description><p>Authors: <a href=\"http://arxiv.org/find/astro-ph/1/au:+Breivik_K/0/1/0/all/0/1\">Katelyn Breivik</a>, <a href=\"http://arxiv.org/find/astro-ph/1/au:+Chatterjee_S/0/1/0/all/0/1\">Sourav Chatterjee</a>, <a href=\"http://arxiv.org/find/astro-ph/1/au:+Larson_S/0/1/0/all/0/1\">Shane L. Larson</a></p> <p>We estimate the population of black holes with luminous stellar companions (BH-LCs) in the Milky Way (MW) observable by Gaia. We evolve a realistic distribution of BH-LC progenitors from zero-age to the current epoch taking into account relevant physics, including binary stellar evolution, BH-formation physics, and star formation rate, to estimate the BH-LC population in the MW today. We predict that Gaia will discover between 3,800 and 12,000 BH-LCs by the end of its 5 yr mission, depending on BH natal kick strength and observability constraints. We find that the overall yield, and distributions of eccentricities and masses of observed BH-LCs can provide important constraints on the strength of BH natal kicks. Gaia-detected BH-LCs are expected to have very different orbital properties compared to those detectable via radio, X-ray, or gravitational wave observations. </p> </description>\n",
    "#<guid isPermaLink=\"false\">oai:arXiv.org:1710.04657</guid>\n",
    "#</item>\n",
    "\n",
    "for record in root.find('channel').findall('item'):\n",
    "    record_title = record.find('title').text\n",
    "    title = record_title.split(' (arXiv')[0]\n",
    "    arxiv_id = \n",
    "    print(title)"
   ]
  },
  {
   "cell_type": "code",
   "execution_count": null,
   "metadata": {
    "collapsed": true
   },
   "outputs": [],
   "source": []
  }
 ],
 "metadata": {
  "kernelspec": {
   "display_name": "Python 3",
   "language": "python",
   "name": "python3"
  },
  "language_info": {
   "codemirror_mode": {
    "name": "ipython",
    "version": 3
   },
   "file_extension": ".py",
   "mimetype": "text/x-python",
   "name": "python",
   "nbconvert_exporter": "python",
   "pygments_lexer": "ipython3",
   "version": "3.6.0"
  }
 },
 "nbformat": 4,
 "nbformat_minor": 2
}
