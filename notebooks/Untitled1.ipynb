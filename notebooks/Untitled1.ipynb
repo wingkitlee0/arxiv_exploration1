{
 "cells": [
  {
   "cell_type": "code",
   "execution_count": 10,
   "metadata": {},
   "outputs": [],
   "source": [
    "%matplotlib inline\n",
    "import time\n",
    "import matplotlib.pylab as plt\n",
    "import pandas as pd\n",
    "import numpy as np\n",
    "import importlib\n",
    "\n",
    "import ArxivAnalysis as AA"
   ]
  },
  {
   "cell_type": "code",
   "execution_count": 11,
   "metadata": {},
   "outputs": [
    {
     "data": {
      "text/plain": [
       "<module 'ArxivAnalysis' from '/home/wklee/ml_projects/arxiv_exploration1/ArxivAnalysis.py'>"
      ]
     },
     "execution_count": 11,
     "metadata": {},
     "output_type": "execute_result"
    }
   ],
   "source": [
    "importlib.reload(AA)"
   ]
  },
  {
   "cell_type": "code",
   "execution_count": 12,
   "metadata": {},
   "outputs": [],
   "source": [
    "arxiv = AA.ArxivAnalysis()"
   ]
  },
  {
   "cell_type": "code",
   "execution_count": 13,
   "metadata": {},
   "outputs": [
    {
     "name": "stdout",
     "output_type": "stream",
     "text": [
      "fetching http://export.arxiv.org/oai2?verb=ListRecords&from=2016-08-01&until=2016-08-31&metadataPrefix=arXiv&set=physics:astro-ph\n",
      "fetching http://export.arxiv.org/oai2?verb=ListRecords&resumptionToken=2585684|1001\n",
      "Got 503. Retrying after 10 seconds.\n",
      "fetching http://export.arxiv.org/oai2?verb=ListRecords&resumptionToken=2585684|1001\n",
      "fetching http://export.arxiv.org/oai2?verb=ListRecords&resumptionToken=2585684|2001\n",
      "fetching http://export.arxiv.org/oai2?verb=ListRecords&resumptionToken=2585684|3001\n",
      "fetching http://export.arxiv.org/oai2?verb=ListRecords&resumptionToken=2585684|4001\n"
     ]
    }
   ],
   "source": [
    "dataframe = arxiv.harvest()"
   ]
  },
  {
   "cell_type": "code",
   "execution_count": 15,
   "metadata": {},
   "outputs": [],
   "source": [
    "import pandas as pd"
   ]
  },
  {
   "cell_type": "code",
   "execution_count": 23,
   "metadata": {},
   "outputs": [
    {
     "data": {
      "text/plain": [
       "'Swift triggered on a precursor to the main burst of GRB 061121 (z=1.314),\\nallowing observations to be made from the optical to gamma-ray bands. Many\\nother telescopes, including Konus-Wind, XMM-Newton, ROTSE and the Faulkes\\nTelescope North, also observed the burst. The gamma-ray, X-ray and UV/optical\\nemission all showed a peak ~75s after the trigger, although the optical and\\nX-ray afterglow components also appear early on - before, or during, the main\\npeak. Spectral evolution was seen throughout the burst, with the prompt\\nemission showing a clear positive correlation between brightness and hardness.\\nThe Spectral Energy Distribution (SED) of the prompt emission, stretching from\\n1eV up to 1MeV, is very flat, with a peak in the flux density at ~1keV. The\\noptical-to-X-ray spectra at this time are better fitted by a broken, rather\\nthan single, power-law, similar to previous results for X-ray flares. The SED\\nshows spectral hardening as the afterglow evolves with time. This behaviour\\nmight be a symptom of self-Comptonisation, although circumstellar densities\\nsimilar to those found in the cores of molecular clouds would be required. The\\nafterglow also decays too slowly to be accounted for by the standard models.\\nAlthough the precursor and main emission show different spectral lags, both are\\nconsistent with the lag-luminosity correlation for long bursts. GRB 061121 is\\nthe instantaneously brightest long burst yet detected by Swift. Using a\\ncombination of Swift and Konus-Wind data, we estimate an isotropic energy of\\n2.8x10^53 erg over 1keV - 10MeV in the GRB rest frame. A probable jet break is\\ndetected at ~2x10^5s, leading to an estimate of ~10^51 erg for the\\nbeaming-corrected gamma-ray energy.'"
      ]
     },
     "execution_count": 23,
     "metadata": {},
     "output_type": "execute_result"
    }
   ],
   "source": [
    "dataframe['abstract'][0]"
   ]
  },
  {
   "cell_type": "code",
   "execution_count": null,
   "metadata": {},
   "outputs": [],
   "source": []
  }
 ],
 "metadata": {
  "kernelspec": {
   "display_name": "TensorFlow (CPU)",
   "language": "python",
   "name": "tensorflow"
  },
  "language_info": {
   "codemirror_mode": {
    "name": "ipython",
    "version": 3
   },
   "file_extension": ".py",
   "mimetype": "text/x-python",
   "name": "python",
   "nbconvert_exporter": "python",
   "pygments_lexer": "ipython3",
   "version": "3.6.5"
  }
 },
 "nbformat": 4,
 "nbformat_minor": 2
}
